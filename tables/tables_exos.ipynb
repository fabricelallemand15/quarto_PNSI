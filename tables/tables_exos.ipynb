{
  "cells": [
    {
      "attachments": {},
      "cell_type": "markdown",
      "id": "c8064f4f-5f5a-4d39-b36c-c56eba10260d",
      "metadata": {},
      "source": [
        "# Exercices - Traitements de données en tables\n",
        "\n",
        "S7 - Traitement de données en tables\n",
        "\n",
        "*Les exercices précédés du symbole sont à faire sur machine, en\n",
        "sauvegardant le fichier si nécessaire.*\n",
        "\n",
        "*Les exercices précédés du symbole doivent être résolus par écrit.*\n",
        "\n",
        "> **Important**\n",
        ">\n",
        "> Notebook Capytale pour les exercices 1 et 2 :\n",
        "> <button type=\"button\" class=\"btn btn-light\"><a href=\"\" target=\"_blank\">Capytale</a>\n",
        "> </button>\n",
        "\n",
        "##  Exercice 1\n",
        "\n",
        "Dans cet exercice, on utilise le fichier [CSV listant les établissements\n",
        "scolaires du Cantal](educ_cantal.csv) déjà rencontré dans le cours\n",
        "(Source : https://www.data.gouv.fr/fr/). Ce fichier utilise l’encodage\n",
        "UTF-8.\n",
        "\n",
        "**Avertissement** : Dans cet exercice, certaines questions nécessitent\n",
        "la comparaison de valeurs **numériques** alors que les données sont\n",
        "toutes au format chaîne de caractères. Il faut donc penser, si besoin, à\n",
        "convertir les données au format numérique adéquat.\n",
        "\n",
        "1.  Importer ce fichier dans un programme Python et indexer les données\n",
        "    sous la forme d’un tableau de dictionnaires nommé `table_educ`."
      ]
    },
    {
      "cell_type": "code",
      "execution_count": null,
      "id": "7f8aa34c",
      "metadata": {},
      "outputs": [],
      "source": []
    },
    {
      "attachments": {},
      "cell_type": "markdown",
      "id": "7d2e9be7",
      "metadata": {},
      "source": [
        "2.  Combien d’enregistrements contient cette table ?"
      ]
    },
    {
      "cell_type": "code",
      "execution_count": null,
      "id": "29f2e2f8",
      "metadata": {},
      "outputs": [],
      "source": []
    },
    {
      "attachments": {},
      "cell_type": "markdown",
      "id": "a6ee3644",
      "metadata": {},
      "source": [
        "3.  Opérations de **sélection** :\n",
        "\n",
        "3.1.  En utilisant une boucle, écrire des instructions permettant de\n",
        "    définir le tableau `etab_AURILLAC` contenant les enregistrements\n",
        "    qui correspondent à des établissement situés à Aurillac."
      ]
    },
    {
      "cell_type": "code",
      "execution_count": null,
      "id": "4f6f9479",
      "metadata": {},
      "outputs": [],
      "source": []
    },
    {
      "attachments": {},
      "cell_type": "markdown",
      "id": "c53b2837",
      "metadata": {},
      "source": [
        "3.2.  En utilisant une définition de tableau en compréhension, écrire\n",
        "une instruction permettant d’obtenir le tableau contenant les\n",
        "enregistrements de tous les établissements privés du Cantal."
      ]
    },
    {
      "cell_type": "code",
      "execution_count": null,
      "id": "ada3e49b",
      "metadata": {},
      "outputs": [],
      "source": []
    },
    {
      "attachments": {},
      "cell_type": "markdown",
      "id": "319edfa5",
      "metadata": {},
      "source": [
        "4.  Opérations de **projection** :\n",
        "\n",
        "4.1.  En utilisant une boucle, écrire des instructions permettant\n",
        "d’obtenir le tableau de tous les codes UAI des établissements du\n",
        "Cantal."
      ]
    },
    {
      "cell_type": "code",
      "execution_count": null,
      "id": "b58d5408",
      "metadata": {},
      "outputs": [],
      "source": []
    },
    {
      "attachments": {},
      "cell_type": "markdown",
      "id": "1af73d79",
      "metadata": {},
      "source": [
        "4.2.  En utilisant une définition de tableau en compréhension, écrire\n",
        "une instruction permettant d’obtenir le tableau de tous les noms\n",
        "d’établissements utilisés dans le Cantal."
      ]
    },
    {
      "cell_type": "code",
      "execution_count": null,
      "id": "cdef495e",
      "metadata": {},
      "outputs": [],
      "source": []
    },
    {
      "attachments": {},
      "cell_type": "markdown",
      "id": "22ffb508",
      "metadata": {},
      "source": [
        "4.3.  On souhaite obtenir le tableau des noms de communes dans\n",
        "lesquelles existe au moins un établissement scolaire, sans\n",
        "répétition (une commune dans laquelle existent trois\n",
        "établissements ne doit apparaître qu’une fois). Trouver une\n",
        "solution pour ce faire."
      ]
    },
    {
      "cell_type": "code",
      "execution_count": null,
      "id": "295f347c",
      "metadata": {},
      "outputs": [],
      "source": []
    },
    {
      "attachments": {},
      "cell_type": "markdown",
      "id": "ae0e3a11",
      "metadata": {},
      "source": [
        "\n",
        "5.  Opérations de **tri** :\n",
        "\n",
        "5.1.  Trier les données par ordre croissant de code postaux."
      ]
    },
    {
      "cell_type": "code",
      "execution_count": null,
      "id": "d994c9cf",
      "metadata": {},
      "outputs": [],
      "source": []
    },
    {
      "attachments": {},
      "cell_type": "markdown",
      "id": "860304f6",
      "metadata": {},
      "source": [
        "5.2.  Trier les données d’Ouest en Est, puis du Nord au Sud."
      ]
    },
    {
      "cell_type": "code",
      "execution_count": null,
      "id": "5ed2d890",
      "metadata": {},
      "outputs": [],
      "source": []
    },
    {
      "attachments": {},
      "cell_type": "markdown",
      "id": "152d084e",
      "metadata": {},
      "source": [
        "5.3.  Trier les données suivant deux critères : d’abord la commune,\n",
        "puis à l’intérieur de chaque commune, selon le statut : public\n",
        "en premier, privé en dernier."
      ]
    },
    {
      "cell_type": "code",
      "execution_count": null,
      "id": "f1a3bad6",
      "metadata": {},
      "outputs": [],
      "source": []
    },
    {
      "attachments": {},
      "cell_type": "markdown",
      "id": "c00cbcba",
      "metadata": {},
      "source": [
        "6.  Opération de **jointure** :\n",
        "\n",
        "6.1.  Importer le fichier CSV\n",
        "[`population_Cantal.csv`](population_Cantal.csv) et indexer les\n",
        "données sous la forme d’un tableau de dictionnaires nommé\n",
        "`population` (Source des données : Insee, Recensement de la\n",
        "population 2019). Ce fichier utilise l’encodage UTF-8.\n",
        "\n",
        "**Attention**: Ouvrir d’abord le fichier dans Notepad ++ et\n",
        "observer le délimiteur utilisé, le nom des attributs, …"
      ]
    },
    {
      "cell_type": "code",
      "execution_count": null,
      "id": "0d30503d",
      "metadata": {},
      "outputs": [],
      "source": []
    },
    {
      "attachments": {},
      "cell_type": "markdown",
      "id": "7f9b629b",
      "metadata": {},
      "source": [
        "6.2.  Combien d’enregistrements contient cette table ?"
      ]
    },
    {
      "cell_type": "code",
      "execution_count": null,
      "id": "4b948115",
      "metadata": {},
      "outputs": [],
      "source": []
    },
    {
      "attachments": {},
      "cell_type": "markdown",
      "id": "d3ed6807",
      "metadata": {},
      "source": [
        "6.3.  Écrire les instructions permettant d’effectuer la jointure entre\n",
        "les tables `table_educ` et `population` sous la forme d’une\n",
        "table nommée `new_table` qui reprend tous les attributs de la\n",
        "table `table_educ` en ajoutant à chaque enregistrement la\n",
        "population de la commune considérée sous la forme d’un champ\n",
        "nommé “population”."
      ]
    },
    {
      "cell_type": "code",
      "execution_count": null,
      "id": "d9b7262d",
      "metadata": {},
      "outputs": [],
      "source": []
    },
    {
      "attachments": {},
      "cell_type": "markdown",
      "id": "85d388ea",
      "metadata": {},
      "source": [
        "6.4.  Enregistrer les données de la table `new_table` dans un nouveau\n",
        "fichier CSV nommé `exo1_jointure.csv`."
      ]
    },
    {
      "cell_type": "code",
      "execution_count": null,
      "id": "916a0e5b",
      "metadata": {},
      "outputs": [],
      "source": []
    },
    {
      "attachments": {},
      "cell_type": "markdown",
      "id": "cc3ad19f",
      "metadata": {},
      "source": [
        "6.5.  Ouvrir ce fichier dans un tableur. Certains enregistrements\n",
        "n’ont pas de valeur pour le champ “population”. Chercher la\n",
        "cause de cette anomalie et essayer de la corriger."
      ]
    },
    {
      "cell_type": "code",
      "execution_count": null,
      "id": "d840a15f",
      "metadata": {},
      "outputs": [],
      "source": []
    },
    {
      "attachments": {},
      "cell_type": "markdown",
      "id": "dce7302f",
      "metadata": {},
      "source": [
        "> **À retenir**\n",
        ">\n",
        "> Lorsqu’on rapproche deux tables, il faut toujours veiller à la\n",
        "> cohérence des noms des attributs, des formats des données (domaines de\n",
        "> valeurs), aux doublons, …\n",
        ">\n",
        "> Cela implique souvent un travail préliminaire de **formatage** des\n",
        "> données avant de passer à leur exploitation proprement dite. Ce\n",
        "> formatage a été fait pour vous dans cet exercice, sauf pour le petit\n",
        "> problème restant qui est apparu dans la dernière question.\n",
        "\n",
        "##  Exercice 2\n",
        "\n",
        "Pour s’entraîner, on reprend le fichier\n",
        "[`population_Cantal.csv`](population_Cantal.csv). Pour\n",
        "chaque question, écrire des instructions Python permettant d’y répondre.\n",
        "Vous pourrez dans certains cas proposer plusieurs solutions.\n",
        "\n",
        "1.  Construire la table des mêmes données, mais triées par population\n",
        "    décroissante."
      ]
    },
    {
      "cell_type": "code",
      "execution_count": null,
      "id": "1ca4911f",
      "metadata": {},
      "outputs": [],
      "source": []
    },
    {
      "attachments": {},
      "cell_type": "markdown",
      "id": "9c0d82cd",
      "metadata": {},
      "source": [
        "2.  Faire le tableau des noms de communes dont le nom **complet** se\n",
        "    termine par “AC”. Combien y en a-t-il ?"
      ]
    },
    {
      "cell_type": "code",
      "execution_count": null,
      "id": "ab49ed9a",
      "metadata": {},
      "outputs": [],
      "source": []
    },
    {
      "attachments": {},
      "cell_type": "markdown",
      "id": "e5cd95c4",
      "metadata": {},
      "source": [
        "3.  Construire la table des enregistrements correspondant aux communes\n",
        "    dont la population est comprise au sens large entre 1000 et 2000\n",
        "    habitants."
      ]
    },
    {
      "cell_type": "code",
      "execution_count": null,
      "id": "721bebaf",
      "metadata": {},
      "outputs": [],
      "source": []
    },
    {
      "cell_type": "markdown",
      "id": "6f03fda8",
      "metadata": {},
      "source": [
        "4.  Question ouverte : construire le tableau des noms de communes qui\n",
        "    sont composés de plusieurs mots."
      ]
    },
    {
      "cell_type": "code",
      "execution_count": null,
      "id": "5d6a6695",
      "metadata": {},
      "outputs": [],
      "source": []
    }
  ],
  "metadata": {
    "kernelspec": {
      "display_name": "Python 3",
      "language": "python",
      "name": "python3"
    },
    "language_info": {
      "codemirror_mode": {
        "name": "ipython",
        "version": 3
      },
      "file_extension": ".py",
      "mimetype": "text/x-python",
      "name": "python",
      "nbconvert_exporter": "python",
      "pygments_lexer": "ipython3",
      "version": "3.11.2"
    }
  },
  "nbformat": 4,
  "nbformat_minor": 5
}
