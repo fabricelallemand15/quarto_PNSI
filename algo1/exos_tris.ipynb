{
 "cells": [
  {
   "attachments": {},
   "cell_type": "markdown",
   "metadata": {},
   "source": [
    "## Exercice 1\n",
    "\n",
    "Écrire une fonction `trie_chaine` qui prend en argument une **liste** de chaînes de caractères et qui **modifie** cette liste en la triant en fonction du nombre de lettres. Cette fonction ne renvoie rien."
   ]
  },
  {
   "cell_type": "code",
   "execution_count": 1,
   "metadata": {},
   "outputs": [],
   "source": [
    "# écrire votre code ci-dessous"
   ]
  },
  {
   "cell_type": "code",
   "execution_count": null,
   "metadata": {},
   "outputs": [],
   "source": [
    "# test de le fonction trie_chaine\n",
    "liste = [\"abcd\", \"abc\", \"ab\", \"a\"]\n",
    "trie_chaine(liste)\n",
    "assert liste == [\"a\", \"ab\", \"abc\", \"abcd\"]\n",
    "\n",
    "liste = [\"un\", \"deux\", \"trois\", \"quatre\", \"cinq\", \"six\", \"sept\", \"huit\", \"neuf\", \"dix\"]\n",
    "trie_chaine(liste)\n",
    "assert liste == [\"un\", \"six\", \"dix\", \"deux\", \"cinq\", \"sept\", \"huit\", \"neuf\", \"trois\", \"quatre\"]\n",
    "\n",
    "print(\"Tests réussis !\")"
   ]
  },
  {
   "attachments": {},
   "cell_type": "markdown",
   "metadata": {},
   "source": [
    "## Exercice 2 : le tri à bulles\n",
    "\n",
    "L'algorithme de tri à bulles est le suivant :\n",
    "\n",
    "- On parcourt la liste de gauche à droite.\n",
    "- Si deux éléments consécutifs sont dans le mauvais ordre, on les échange.\n",
    "- Si, à l'étape précédente, au moins un échange a eu lieu, on recommence à l'étape 1.\n",
    "- Sinon, la liste est triée et on arrête.\n",
    "\n",
    "1. Écrire toutes les étapes du tri à bulles pour la liste `[5, 3, 2, 4, 1]`."
   ]
  },
  {
   "cell_type": "code",
   "execution_count": 2,
   "metadata": {},
   "outputs": [],
   "source": [
    "# écrire votre réponse ci-dessous"
   ]
  },
  {
   "attachments": {},
   "cell_type": "markdown",
   "metadata": {},
   "source": [
    "2. Soit $n$ un entier naturel non nul et $L$ une liste de $n$ entiers rangés dans l'ordre décroissant (pire des cas). Combien d'échanges sont nécessaires pour trier $L$ dans l'ordre croissant ? En déduire une évaluation de la complexité de cet algorithme."
   ]
  },
  {
   "cell_type": "code",
   "execution_count": null,
   "metadata": {},
   "outputs": [],
   "source": [
    "# écrire votre réponse ci-dessous"
   ]
  },
  {
   "attachments": {},
   "cell_type": "markdown",
   "metadata": {},
   "source": [
    "3. Écrire une fonction `tri_bulles` qui prend en argument une **liste** de nombres et qui **modifie** cette liste en la triant par ordre croissant en utilisant l'algorithme du tri à bulles. Cette fonction ne renvoie rien."
   ]
  },
  {
   "cell_type": "code",
   "execution_count": null,
   "metadata": {},
   "outputs": [],
   "source": [
    "# écrire votre code"
   ]
  },
  {
   "cell_type": "code",
   "execution_count": null,
   "metadata": {},
   "outputs": [],
   "source": [
    "# test de la fonction tri_bulles\n",
    "liste = [5, 3, 2, 4, 1]\n",
    "tri_bulles(liste)\n",
    "assert liste == [1, 2, 3, 4, 5]\n",
    "print(\"Tests réussis !\")"
   ]
  },
  {
   "attachments": {},
   "cell_type": "markdown",
   "metadata": {},
   "source": [
    "4. Recopier la définition de la fonction `tri_bulles` ci-dessous et ajouter une variable `compteur` qui compte le nombre d'échanges effectués. Ce nombre doit être renvoyé par la fonction. Tester la fonction avec la liste `[5, 3, 2, 4, 1]` et vérifier que le compteur vaut bien 6."
   ]
  },
  {
   "cell_type": "code",
   "execution_count": null,
   "metadata": {},
   "outputs": [],
   "source": [
    "# écrire votre code ci-dessous"
   ]
  },
  {
   "cell_type": "code",
   "execution_count": null,
   "metadata": {},
   "outputs": [],
   "source": [
    "# test\n",
    "assert tri_bulles([5, 3, 2, 4, 1]) == 6\n",
    "print(\"Tests réussis !\")"
   ]
  }
 ],
 "metadata": {
  "kernelspec": {
   "display_name": "Python 3",
   "language": "python",
   "name": "python3"
  },
  "language_info": {
   "codemirror_mode": {
    "name": "ipython",
    "version": 3
   },
   "file_extension": ".py",
   "mimetype": "text/x-python",
   "name": "python",
   "nbconvert_exporter": "python",
   "pygments_lexer": "ipython3",
   "version": "3.11.2"
  },
  "orig_nbformat": 4
 },
 "nbformat": 4,
 "nbformat_minor": 2
}
