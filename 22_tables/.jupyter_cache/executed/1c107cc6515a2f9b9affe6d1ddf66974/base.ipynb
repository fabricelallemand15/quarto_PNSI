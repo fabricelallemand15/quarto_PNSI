{
 "cells": [
  {
   "cell_type": "code",
   "execution_count": 1,
   "id": "f91663c1",
   "metadata": {},
   "outputs": [
    {
     "name": "stdout",
     "output_type": "stream",
     "text": [
      "{\"/usr/lib/python3.12/importlib/_bootstrap.py\": 1750269585.0, \"/usr/lib/python3.12/importlib/_bootstrap_external.py\": 1750269585.0, \"/usr/lib/python3.12/zipimport.py\": 1750269585.0, \"/usr/lib/python3.12/codecs.py\": 1750269585.0, \"/usr/lib/python3.12/encodings/aliases.py\": 1750269585.0, \"/usr/lib/python3.12/encodings/__init__.py\": 1750269585.0, \"/usr/lib/python3.12/encodings/utf_8.py\": 1750269585.0, \"/usr/lib/python3.12/abc.py\": 1750269585.0, \"/usr/lib/python3.12/io.py\": 1750269585.0, \"/usr/lib/python3.12/stat.py\": 1750269585.0, \"/usr/lib/python3.12/_collections_abc.py\": 1750269585.0, \"/usr/lib/python3.12/genericpath.py\": 1750269585.0, \"/usr/lib/python3.12/posixpath.py\": 1750269585.0, \"/usr/lib/python3.12/os.py\": 1750269585.0, \"/usr/lib/python3.12/_sitebuiltins.py\": 1750269585.0, \"/usr/lib/python3/dist-packages/_distutils_hack/__init__.py\": 1692360458.0, \"/usr/lib/python3.12/types.py\": 1750269585.0, \"/usr/lib/python3.12/warnings.py\": 1750269585.0, \"/usr/lib/python3.12/importlib/__init__.py\": 1750269585.0, \"/usr/lib/python3.12/importlib/_abc.py\": 1750269585.0, \"/usr/lib/python3.12/keyword.py\": 1750269585.0, \"/usr/lib/python3.12/operator.py\": 1750269585.0, \"/usr/lib/python3.12/reprlib.py\": 1750269585.0, \"/usr/lib/python3.12/collections/__init__.py\": 1750269585.0, \"/usr/lib/python3.12/functools.py\": 1750269585.0, \"/usr/lib/python3.12/_weakrefset.py\": 1750269585.0, \"/usr/lib/python3.12/threading.py\": 1750269585.0, \"/usr/lib/python3.12/importlib/util.py\": 1750269585.0, \"/usr/lib/python3.12/importlib/machinery.py\": 1750269585.0, \"/usr/lib/python3/dist-packages/mpl_toolkits/__init__.py\": 1673476167.0, \"/usr/lib/python3/dist-packages/apport_python_hook.py\": 1713443495.0, \"/usr/lib/python3.12/sitecustomize.py\": 1712727227.0, \"/usr/lib/python3.12/site.py\": 1750269585.0, \"/usr/lib/python3.12/runpy.py\": 1750269585.0, \"/usr/lib/python3.12/enum.py\": 1750269585.0, \"/usr/lib/python3.12/re/_constants.py\": 1750269585.0, \"/usr/lib/python3.12/re/_parser.py\": 1750269585.0, \"/usr/lib/python3.12/re/_casefix.py\": 1750269585.0, \"/usr/lib/python3.12/re/_compiler.py\": 1750269585.0, \"/usr/lib/python3.12/copyreg.py\": 1750269585.0, \"/usr/lib/python3.12/re/__init__.py\": 1750269585.0, \"/usr/lib/python3.12/fnmatch.py\": 1750269585.0, \"/usr/lib/python3.12/urllib/__init__.py\": 1750269585.0, \"/usr/lib/python3.12/ipaddress.py\": 1750269585.0, \"/usr/lib/python3.12/urllib/parse.py\": 1750269585.0, \"/usr/lib/python3.12/ntpath.py\": 1750269585.0, \"/usr/lib/python3.12/pathlib.py\": 1750269585.0, \"/usr/lib/python3.12/collections/abc.py\": 1750269585.0, \"/usr/lib/python3.12/contextlib.py\": 1750269585.0, \"/usr/lib/python3.12/typing.py\": 1750269585.0, \"/usr/lib/python3/dist-packages/ipykernel/_version.py\": 1705011938.0, \"/usr/lib/python3.12/__future__.py\": 1750269585.0, \"/usr/lib/python3.12/lib-dynload/_json.cpython-312-x86_64-linux-gnu.so\": 1750269585.0, \"/usr/lib/python3.12/json/scanner.py\": 1750269585.0, \"/usr/lib/python3.12/json/decoder.py\": 1750269585.0, \"/usr/lib/python3.12/json/encoder.py\": 1750269585.0, \"/usr/lib/python3.12/json/__init__.py\": 1750269585.0, \"/usr/lib/python3.12/locale.py\": 1750269585.0, \"/usr/lib/python3.12/signal.py\": 1750269585.0, \"/usr/lib/python3.12/selectors.py\": 1750269585.0, \"/usr/lib/python3.12/subprocess.py\": 1750269585.0, \"/usr/lib/python3/dist-packages/jupyter_client/_version.py\": 1708435278.0, \"/usr/lib/python3.12/ast.py\": 1750269585.0, \"/usr/lib/python3.12/opcode.py\": 1750269585.0, \"/usr/lib/python3.12/dis.py\": 1750269585.0, \"/usr/lib/python3.12/token.py\": 1750269585.0, \"/usr/lib/python3.12/tokenize.py\": 1750269585.0, \"/usr/lib/python3.12/linecache.py\": 1750269585.0, \"/usr/lib/python3.12/inspect.py\": 1750269585.0, \"/usr/lib/python3/dist-packages/traitlets/utils/__init__.py\": 1692360615.0, \"/usr/lib/python3/dist-packages/traitlets/utils/bunch.py\": 1692360615.0, \"/usr/lib/python3/dist-packages/traitlets/utils/descriptions.py\": 1692360615.0, \"/usr/lib/python3/dist-packages/traitlets/utils/getargspec.py\": 1692360615.0, \"/usr/lib/python3/dist-packages/traitlets/utils/importstring.py\": 1692360615.0, \"/usr/lib/python3/dist-packages/traitlets/utils/sentinel.py\": 1692360615.0, \"/usr/lib/python3/dist-packages/traitlets/traitlets.py\": 1692360615.0, \"/usr/lib/python3/dist-packages/traitlets/_version.py\": 1692360615.0, \"/usr/lib/python3.12/weakref.py\": 1750269585.0, \"/usr/lib/python3.12/copy.py\": 1750269585.0, \"/usr/lib/python3/dist-packages/traitlets/utils/decorators.py\": 1692360615.0, \"/usr/lib/python3/dist-packages/traitlets/__init__.py\": 1692360615.0, \"/usr/lib/python3.12/concurrent/__init__.py\": 1750269585.0, \"/usr/lib/python3.12/textwrap.py\": 1750269585.0, \"/usr/lib/python3.12/traceback.py\": 1750269585.0, \"/usr/lib/python3.12/string.py\": 1750269585.0, \"/usr/lib/python3.12/logging/__init__.py\": 1750269585.0, \"/usr/lib/python3.12/concurrent/futures/_base.py\": 1750269585.0, \"/usr/lib/python3.12/concurrent/futures/__init__.py\": 1750269585.0, \"/usr/lib/python3.12/heapq.py\": 1750269585.0, \"/usr/lib/python3.12/socket.py\": 1750269585.0, \"/usr/lib/python3.12/lib-dynload/_ssl.cpython-312-x86_64-linux-gnu.so\": 1750269585.0, \"/usr/lib/python3.12/struct.py\": 1750269585.0, \"/usr/lib/python3.12/base64.py\": 1750269585.0, \"/usr/lib/python3.12/ssl.py\": 1750269585.0, \"/usr/lib/python3.12/asyncio/constants.py\": 1750269585.0, \"/usr/lib/python3.12/asyncio/coroutines.py\": 1750269585.0, \"/usr/lib/python3.12/lib-dynload/_contextvars.cpython-312-x86_64-linux-gnu.so\": 1750269585.0, \"/usr/lib/python3.12/contextvars.py\": 1750269585.0, \"/usr/lib/python3.12/asyncio/format_helpers.py\": 1750269585.0, \"/usr/lib/python3.12/asyncio/base_futures.py\": 1750269585.0, \"/usr/lib/python3.12/asyncio/exceptions.py\": 1750269585.0, \"/usr/lib/python3.12/asyncio/base_tasks.py\": 1750269585.0, \"/usr/lib/python3.12/lib-dynload/_asyncio.cpython-312-x86_64-linux-gnu.so\": 1750269585.0, \"/usr/lib/python3.12/asyncio/events.py\": 1750269585.0, \"/usr/lib/python3.12/asyncio/futures.py\": 1750269585.0, \"/usr/lib/python3.12/asyncio/protocols.py\": 1750269585.0, \"/usr/lib/python3.12/asyncio/transports.py\": 1750269585.0, \"/usr/lib/python3.12/asyncio/log.py\": 1750269585.0, \"/usr/lib/python3.12/asyncio/sslproto.py\": 1750269585.0, \"/usr/lib/python3.12/asyncio/mixins.py\": 1750269585.0, \"/usr/lib/python3.12/asyncio/locks.py\": 1750269585.0, \"/usr/lib/python3.12/asyncio/timeouts.py\": 1750269585.0, \"/usr/lib/python3.12/asyncio/tasks.py\": 1750269585.0, \"/usr/lib/python3.12/asyncio/staggered.py\": 1750269585.0, \"/usr/lib/python3.12/asyncio/trsock.py\": 1750269585.0, \"/usr/lib/python3.12/asyncio/base_events.py\": 1750269585.0, \"/usr/lib/python3.12/asyncio/runners.py\": 1750269585.0, \"/usr/lib/python3.12/asyncio/queues.py\": 1750269585.0, \"/usr/lib/python3.12/asyncio/streams.py\": 1750269585.0, \"/usr/lib/python3.12/asyncio/subprocess.py\": 1750269585.0, \"/usr/lib/python3.12/asyncio/taskgroups.py\": 1750269585.0, \"/usr/lib/python3.12/asyncio/threads.py\": 1750269585.0, \"/usr/lib/python3.12/asyncio/base_subprocess.py\": 1750269585.0, \"/usr/lib/python3.12/asyncio/selector_events.py\": 1750269585.0, \"/usr/lib/python3.12/asyncio/unix_events.py\": 1750269585.0, \"/usr/lib/python3.12/asyncio/__init__.py\": 1750269585.0, \"/usr/lib/python3.12/lib-dynload/_queue.cpython-312-x86_64-linux-gnu.so\": 1750269585.0, \"/usr/lib/python3.12/queue.py\": 1750269585.0, \"/usr/lib/python3.12/platform.py\": 1750269585.0, \"/usr/lib/python3.12/lib-dynload/_ctypes.cpython-312-x86_64-linux-gnu.so\": 1750269585.0, \"/usr/lib/python3.12/ctypes/_endian.py\": 1750269585.0, \"/usr/lib/python3.12/ctypes/__init__.py\": 1750269585.0, \"/usr/lib/python3/dist-packages/zmq/backend/select.py\": 1712772165.0, \"/usr/lib/python3/dist-packages/zmq/error.py\": 1712772165.0, \"/usr/lib/python3/dist-packages/zmq/backend/cython/context.cpython-312-x86_64-linux-gnu.so\": 1712772165.0, \"/usr/lib/python3/dist-packages/zmq/backend/cython/message.cpython-312-x86_64-linux-gnu.so\": 1712772165.0, \"/usr/lib/python3.12/bisect.py\": 1750269585.0, \"/usr/lib/python3.12/random.py\": 1750269585.0, \"/usr/lib/python3.12/_compat_pickle.py\": 1750269585.0, \"/usr/lib/python3.12/pickle.py\": 1750269585.0, \"/usr/lib/python3/dist-packages/zmq/constants.py\": 1712772165.0, \"/usr/lib/python3/dist-packages/zmq/backend/cython/socket.cpython-312-x86_64-linux-gnu.so\": 1712772165.0, \"/usr/lib/python3/dist-packages/zmq/backend/cython/_device.cpython-312-x86_64-linux-gnu.so\": 1712772165.0, \"/usr/lib/python3/dist-packages/zmq/backend/cython/_poll.cpython-312-x86_64-linux-gnu.so\": 1712772165.0, \"/usr/lib/python3/dist-packages/zmq/backend/cython/_proxy_steerable.cpython-312-x86_64-linux-gnu.so\": 1712772165.0, \"/usr/lib/python3/dist-packages/zmq/backend/cython/_version.cpython-312-x86_64-linux-gnu.so\": 1712772165.0, \"/usr/lib/python3/dist-packages/zmq/backend/cython/error.cpython-312-x86_64-linux-gnu.so\": 1712772165.0, \"/usr/lib/python3/dist-packages/zmq/backend/cython/utils.cpython-312-x86_64-linux-gnu.so\": 1712772165.0, \"/usr/lib/python3/dist-packages/zmq/backend/cython/__init__.py\": 1712772165.0, \"/usr/lib/python3/dist-packages/zmq/backend/__init__.py\": 1712772165.0, \"/usr/lib/python3/dist-packages/zmq/sugar/attrsettr.py\": 1712772165.0, \"/usr/lib/python3/dist-packages/zmq/_typing.py\": 1712772165.0, \"/usr/lib/python3/dist-packages/zmq/utils/__init__.py\": 1712772165.0, \"/usr/lib/python3/dist-packages/zmq/utils/jsonapi.py\": 1712772165.0, \"/usr/lib/python3/dist-packages/zmq/sugar/poll.py\": 1712772165.0, \"/usr/lib/python3/dist-packages/zmq/sugar/socket.py\": 1712772165.0, \"/usr/lib/python3/dist-packages/zmq/sugar/context.py\": 1712772165.0, \"/usr/lib/python3/dist-packages/zmq/sugar/frame.py\": 1712772165.0, \"/usr/lib/python3/dist-packages/zmq/sugar/tracker.py\": 1712772165.0, \"/usr/lib/python3/dist-packages/zmq/sugar/version.py\": 1712772165.0, \"/usr/lib/python3/dist-packages/zmq/sugar/stopwatch.py\": 1712772165.0, \"/usr/lib/python3/dist-packages/zmq/sugar/__init__.py\": 1712772165.0, \"/usr/lib/python3/dist-packages/zmq/__init__.py\": 1712772165.0, \"/usr/lib/python3/dist-packages/zmq/_future.py\": 1712772165.0, \"/usr/lib/python3/dist-packages/zmq/asyncio.py\": 1712772165.0, \"/usr/lib/python3/dist-packages/jupyter_client/channelsabc.py\": 1708435278.0, \"/usr/lib/python3.12/lib-dynload/_hashlib.cpython-312-x86_64-linux-gnu.so\": 1750269585.0, \"/usr/lib/python3.12/hashlib.py\": 1750269585.0, \"/usr/lib/python3.12/hmac.py\": 1750269585.0, \"/usr/lib/python3.12/dataclasses.py\": 1750269585.0, \"/usr/lib/python3.12/pprint.py\": 1750269585.0, \"/usr/lib/python3.12/datetime.py\": 1750269585.0, \"/usr/lib/python3/dist-packages/tornado/__init__.py\": 1701227939.0, \"/usr/lib/python3.12/numbers.py\": 1750269585.0, \"/usr/lib/python3.12/logging/handlers.py\": 1750269585.0, \"/usr/lib/python3.12/html/entities.py\": 1750269585.0, \"/usr/lib/python3.12/html/__init__.py\": 1750269585.0, \"/usr/lib/python3/dist-packages/tornado/speedups.abi3.so\": 1747646781.0, \"/usr/lib/python3/dist-packages/tornado/util.py\": 1701227939.0, \"/usr/lib/python3/dist-packages/tornado/escape.py\": 1701227939.0, \"/usr/lib/python3/dist-packages/colorama/ansi.py\": 1693469188.0, \"/usr/lib/python3/dist-packages/colorama/win32.py\": 1693469188.0, \"/usr/lib/python3/dist-packages/colorama/winterm.py\": 1693469188.0, \"/usr/lib/python3/dist-packages/colorama/ansitowin32.py\": 1693469188.0, \"/usr/lib/python3/dist-packages/colorama/initialise.py\": 1693469188.0, \"/usr/lib/python3/dist-packages/colorama/__init__.py\": 1693469188.0, \"/usr/lib/python3.12/lib-dynload/_curses.cpython-312-x86_64-linux-gnu.so\": 1750269585.0, \"/usr/lib/python3.12/curses/__init__.py\": 1750269585.0, \"/usr/lib/python3/dist-packages/tornado/log.py\": 1701227939.0, \"/usr/lib/python3/dist-packages/tornado/concurrent.py\": 1701227939.0, \"/usr/lib/python3/dist-packages/tornado/ioloop.py\": 1701227939.0, \"/usr/lib/python3.12/socketserver.py\": 1750269585.0, \"/usr/lib/python3.12/logging/config.py\": 1750269585.0, \"/usr/lib/python3/dist-packages/traitlets/utils/text.py\": 1692360615.0, \"/usr/lib/python3.12/gettext.py\": 1750269585.0, \"/usr/lib/python3.12/argparse.py\": 1750269585.0, \"/usr/lib/python3/dist-packages/traitlets/config/loader.py\": 1692360615.0, \"/usr/lib/python3/dist-packages/traitlets/config/configurable.py\": 1692360615.0, \"/usr/lib/python3/dist-packages/traitlets/utils/nested_update.py\": 1692360615.0, \"/usr/lib/python3/dist-packages/traitlets/config/application.py\": 1692360615.0, \"/usr/lib/python3/dist-packages/traitlets/config/__init__.py\": 1692360615.0, \"/usr/lib/python3/dist-packages/traitlets/log.py\": 1692360615.0, \"/usr/lib/python3/dist-packages/tornado/platform/__init__.py\": 1701227939.0, \"/usr/lib/python3/dist-packages/tornado/gen.py\": 1701227939.0, \"/usr/lib/python3/dist-packages/tornado/platform/asyncio.py\": 1701227939.0, \"/usr/lib/python3/dist-packages/zmq/eventloop/ioloop.py\": 1712772165.0, \"/usr/lib/python3/dist-packages/zmq/eventloop/__init__.py\": 1712772165.0, \"/usr/lib/python3/dist-packages/zmq/eventloop/zmqstream.py\": 1712772165.0, \"/usr/lib/python3/dist-packages/jupyter_client/adapter.py\": 1708435278.0, \"/usr/lib/python3/dist-packages/dateutil/_version.py\": 1712671756.0, \"/usr/lib/python3/dist-packages/dateutil/__init__.py\": 1626250707.0, \"/usr/lib/python3.12/calendar.py\": 1750269585.0, \"/usr/lib/python3/dist-packages/six.py\": 1620224278.0, \"/usr/lib/python3.12/lib-dynload/_decimal.cpython-312-x86_64-linux-gnu.so\": 1750269585.0, \"/usr/lib/python3.12/decimal.py\": 1750269585.0, \"/usr/lib/python3/dist-packages/dateutil/_common.py\": 1626250707.0, \"/usr/lib/python3/dist-packages/dateutil/relativedelta.py\": 1626250707.0, \"/usr/lib/python3/dist-packages/dateutil/tz/_common.py\": 1626250707.0, \"/usr/lib/python3/dist-packages/dateutil/tz/_factories.py\": 1626250707.0, \"/usr/lib/python3/dist-packages/dateutil/tz/tz.py\": 1712671756.0, \"/usr/lib/python3/dist-packages/dateutil/tz/__init__.py\": 1626250707.0, \"/usr/lib/python3/dist-packages/dateutil/parser/_parser.py\": 1626250707.0, \"/usr/lib/python3/dist-packages/dateutil/parser/isoparser.py\": 1626250707.0, \"/usr/lib/python3/dist-packages/dateutil/parser/__init__.py\": 1626250707.0, \"/usr/lib/python3.12/_strptime.py\": 1750269585.0, \"/usr/lib/python3/dist-packages/jupyter_client/jsonutil.py\": 1708435278.0, \"/usr/lib/python3/dist-packages/jupyter_client/session.py\": 1708435278.0, \"/usr/lib/python3/dist-packages/jupyter_client/channels.py\": 1708435278.0, \"/usr/lib/python3.12/lib-dynload/termios.cpython-312-x86_64-linux-gnu.so\": 1750269585.0, \"/usr/lib/python3.12/getpass.py\": 1750269585.0, \"/usr/lib/python3/dist-packages/jupyter_client/clientabc.py\": 1708435278.0, \"/usr/lib/python3.12/glob.py\": 1750269585.0, \"/usr/lib/python3.12/_compression.py\": 1750269585.0, \"/usr/lib/python3.12/lib-dynload/_bz2.cpython-312-x86_64-linux-gnu.so\": 1750269585.0, \"/usr/lib/python3.12/bz2.py\": 1750269585.0, \"/usr/lib/python3.12/lib-dynload/_lzma.cpython-312-x86_64-linux-gnu.so\": 1750269585.0, \"/usr/lib/python3.12/lzma.py\": 1750269585.0, \"/usr/lib/python3.12/shutil.py\": 1750269585.0, \"/usr/lib/python3.12/tempfile.py\": 1750269585.0, \"/usr/lib/python3/dist-packages/jupyter_core/version.py\": 1709981898.0, \"/usr/lib/python3/dist-packages/jupyter_core/__init__.py\": 1709981898.0, \"/usr/lib/python3/dist-packages/platformdirs/api.py\": 1706981996.0, \"/usr/lib/python3/dist-packages/platformdirs/version.py\": 1706981996.0, \"/usr/lib/python3.12/configparser.py\": 1750269585.0, \"/usr/lib/python3/dist-packages/platformdirs/unix.py\": 1706981996.0, \"/usr/lib/python3/dist-packages/platformdirs/__init__.py\": 1706981996.0, \"/usr/lib/python3/dist-packages/jupyter_core/utils/__init__.py\": 1709981898.0, \"/usr/lib/python3/dist-packages/jupyter_core/paths.py\": 1709981898.0, \"/usr/lib/python3/dist-packages/jupyter_client/localinterfaces.py\": 1708435278.0, \"/usr/lib/python3/dist-packages/jupyter_client/utils.py\": 1708435278.0, \"/usr/lib/python3/dist-packages/jupyter_client/connect.py\": 1708435278.0, \"/usr/lib/python3/dist-packages/jupyter_client/client.py\": 1708435278.0, \"/usr/lib/python3/dist-packages/jupyter_client/asynchronous/client.py\": 1708435278.0, \"/usr/lib/python3/dist-packages/jupyter_client/asynchronous/__init__.py\": 1708435278.0, \"/usr/lib/python3/dist-packages/jupyter_client/blocking/client.py\": 1708435278.0, \"/usr/lib/python3/dist-packages/jupyter_client/blocking/__init__.py\": 1708435278.0, \"/usr/lib/python3/dist-packages/jupyter_client/launcher.py\": 1708435278.0, \"/usr/lib/python3.12/uuid.py\": 1750269585.0, \"/usr/lib/python3/dist-packages/jupyter_client/managerabc.py\": 1708435278.0, \"/usr/lib/python3.12/zipfile/_path/glob.py\": 1750269585.0, \"/usr/lib/python3.12/zipfile/_path/__init__.py\": 1750269585.0, \"/usr/lib/python3.12/zipfile/__init__.py\": 1750269585.0, \"/usr/lib/python3/dist-packages/entrypoints.py\": 1669997866.0, \"/usr/lib/python3/dist-packages/jupyter_client/provisioning/provisioner_base.py\": 1708435278.0, \"/usr/lib/python3/dist-packages/jupyter_client/provisioning/factory.py\": 1708435278.0, \"/usr/lib/python3/dist-packages/jupyter_client/provisioning/local_provisioner.py\": 1708435278.0, \"/usr/lib/python3/dist-packages/jupyter_client/provisioning/__init__.py\": 1708435278.0, \"/usr/lib/python3/dist-packages/jupyter_client/kernelspec.py\": 1708435278.0, \"/usr/lib/python3/dist-packages/jupyter_client/manager.py\": 1708435278.0, \"/usr/lib/python3/dist-packages/jupyter_client/multikernelmanager.py\": 1708435278.0, \"/usr/lib/python3/dist-packages/jupyter_client/__init__.py\": 1708435278.0, \"/usr/lib/python3/dist-packages/ipykernel/connect.py\": 1705011938.0, \"/usr/lib/python3/dist-packages/ipykernel/__init__.py\": 1705011938.0, \"/usr/lib/python3/dist-packages/IPython/core/__init__.py\": 1705278739.0, \"/usr/lib/python3/dist-packages/IPython/core/getipython.py\": 1705278739.0, \"/usr/lib/python3/dist-packages/IPython/core/release.py\": 1705278739.0, \"/usr/lib/python3.12/pkgutil.py\": 1750269585.0, \"/usr/lib/python3.12/sysconfig.py\": 1750269585.0, \"/usr/lib/python3.12/_sysconfigdata__x86_64-linux-gnu.py\": 1750269585.0, \"/usr/lib/python3.12/pydoc.py\": 1750269585.0, \"/usr/lib/python3/dist-packages/executing/_exceptions.py\": 1705786373.0, \"/usr/lib/python3/dist-packages/executing/_position_node_finder.py\": 1705786373.0, \"/usr/lib/python3/dist-packages/executing/executing.py\": 1705786373.0, \"/usr/lib/python3/dist-packages/executing/version.py\": 1705786373.0, \"/usr/lib/python3/dist-packages/executing/__init__.py\": 1705786373.0, \"/usr/lib/python3/dist-packages/asttokens/line_numbers.py\": 1701167509.0, \"/usr/lib/python3/dist-packages/asttokens/util.py\": 1701167509.0, \"/usr/lib/python3/dist-packages/asttokens/asttokens.py\": 1701167509.0, \"/usr/lib/python3/dist-packages/asttokens/__init__.py\": 1701167509.0, \"/usr/lib/python3.12/fractions.py\": 1750269585.0, \"/usr/lib/python3/dist-packages/pure_eval/utils.py\": 1643358091.0, \"/usr/lib/python3/dist-packages/pure_eval/my_getattr_static.py\": 1643358091.0, \"/usr/lib/python3/dist-packages/pure_eval/core.py\": 1643358091.0, \"/usr/lib/python3/dist-packages/pure_eval/__init__.py\": 1643358091.0, \"/usr/lib/python3/dist-packages/stack_data/utils.py\": 1705867421.0, \"/usr/lib/python3/dist-packages/stack_data/core.py\": 1705867421.0, \"/usr/lib/python3/dist-packages/stack_data/formatting.py\": 1705867421.0, \"/usr/lib/python3/dist-packages/stack_data/serializing.py\": 1705867421.0, \"/usr/lib/python3/dist-packages/stack_data/version.py\": 1705867421.0, \"/usr/lib/python3/dist-packages/stack_data/__init__.py\": 1705867421.0, \"/usr/lib/python3/dist-packages/pygments/__init__.py\": 1706880380.0, \"/usr/lib/python3/dist-packages/pygments/formatters/_mapping.py\": 1706880380.0, \"/usr/lib/python3/dist-packages/pygments/plugin.py\": 1706880380.0, \"/usr/lib/python3/dist-packages/pygments/util.py\": 1706880380.0, \"/usr/lib/python3/dist-packages/pygments/formatters/__init__.py\": 1706880380.0, \"/usr/lib/python3/dist-packages/pygments/styles/_mapping.py\": 1706880380.0, \"/usr/lib/python3/dist-packages/pygments/styles/__init__.py\": 1706880380.0, \"/usr/lib/python3/dist-packages/pygments/formatter.py\": 1706880380.0, \"/usr/lib/python3/dist-packages/pygments/console.py\": 1706880380.0, \"/usr/lib/python3/dist-packages/pygments/token.py\": 1706880380.0, \"/usr/lib/python3/dist-packages/pygments/style.py\": 1706880380.0, \"/usr/lib/python3/dist-packages/pygments/formatters/terminal256.py\": 1706880380.0, \"/usr/lib/python3/dist-packages/IPython/utils/__init__.py\": 1705278739.0, \"/usr/lib/python3/dist-packages/IPython/utils/colorable.py\": 1705278739.0, \"/usr/lib/python3/dist-packages/IPython/utils/ipstruct.py\": 1705278739.0, \"/usr/lib/python3/dist-packages/IPython/utils/coloransi.py\": 1705278739.0, \"/usr/lib/python3/dist-packages/IPython/utils/PyColorize.py\": 1705278739.0, \"/usr/lib/python3/dist-packages/IPython/utils/encoding.py\": 1705278739.0, \"/usr/lib/python3/dist-packages/IPython/utils/py3compat.py\": 1705278739.0, \"/usr/lib/python3/dist-packages/IPython/core/excolors.py\": 1705278739.0, \"/usr/lib/python3.12/cmd.py\": 1750269585.0, \"/usr/lib/python3.12/bdb.py\": 1750269585.0, \"/usr/lib/python3.12/codeop.py\": 1750269585.0, \"/usr/lib/python3.12/code.py\": 1750269585.0, \"/usr/lib/python3.12/pdb.py\": 1750269585.0, \"/usr/lib/python3/dist-packages/IPython/core/debugger.py\": 1705278739.0, \"/usr/lib/python3/dist-packages/IPython/core/display_trap.py\": 1705278739.0, \"/usr/lib/python3/dist-packages/pexpect/exceptions.py\": 1706622229.0, \"/usr/lib/python3/dist-packages/pexpect/utils.py\": 1706622229.0, \"/usr/lib/python3/dist-packages/pexpect/expect.py\": 1706622229.0, \"/usr/lib/python3.12/tty.py\": 1750269585.0, \"/usr/lib/python3.12/pty.py\": 1750269585.0, \"/usr/lib/python3.12/lib-dynload/resource.cpython-312-x86_64-linux-gnu.so\": 1750269585.0, \"/usr/lib/python3/dist-packages/ptyprocess/util.py\": 1670000313.0, \"/usr/lib/python3/dist-packages/ptyprocess/ptyprocess.py\": 1670000313.0, \"/usr/lib/python3/dist-packages/ptyprocess/__init__.py\": 1670000313.0, \"/usr/lib/python3/dist-packages/pexpect/spawnbase.py\": 1706622229.0, \"/usr/lib/python3/dist-packages/pexpect/pty_spawn.py\": 1706622229.0, \"/usr/lib/python3/dist-packages/pexpect/run.py\": 1706622229.0, \"/usr/lib/python3/dist-packages/pexpect/__init__.py\": 1706622229.0, \"/usr/lib/python3.12/shlex.py\": 1750269585.0, \"/usr/lib/python3/dist-packages/IPython/utils/_process_common.py\": 1705278739.0, \"/usr/lib/python3/dist-packages/IPython/utils/_process_posix.py\": 1705278739.0, \"/usr/lib/python3/dist-packages/IPython/utils/process.py\": 1705278739.0, \"/usr/lib/python3/dist-packages/IPython/utils/path.py\": 1705278739.0, \"/usr/lib/python3/dist-packages/IPython/utils/terminal.py\": 1705278739.0, \"/usr/lib/python3/dist-packages/IPython/core/ultratb.py\": 1705278739.0, \"/usr/lib/python3/dist-packages/IPython/utils/_sysinfo.py\": 1705278739.0, \"/usr/lib/python3/dist-packages/IPython/utils/sysinfo.py\": 1705278739.0, \"/usr/lib/python3/dist-packages/IPython/core/crashhandler.py\": 1705278739.0, \"/usr/lib/python3/dist-packages/IPython/utils/importstring.py\": 1705278739.0, \"/usr/lib/python3/dist-packages/IPython/paths.py\": 1705278739.0, \"/usr/lib/python3/dist-packages/IPython/core/profiledir.py\": 1705278739.0, \"/usr/lib/python3/dist-packages/IPython/core/application.py\": 1705278739.0, \"/usr/lib/python3/dist-packages/IPython/terminal/__init__.py\": 1705278739.0, \"/usr/lib/python3/dist-packages/IPython/core/compilerop.py\": 1705278739.0, \"/usr/lib/python3/dist-packages/IPython/core/error.py\": 1705278739.0, \"/usr/lib/python3/dist-packages/IPython/utils/docs.py\": 1705278739.0, \"/usr/lib/python3/dist-packages/IPython/utils/decorators.py\": 1705278739.0, \"/usr/lib/python3/dist-packages/IPython/utils/text.py\": 1705278739.0, \"/usr/lib/python3/dist-packages/IPython/core/magic_arguments.py\": 1705278739.0, \"/usr/lib/python3.12/getopt.py\": 1750269585.0, \"/usr/lib/python3/dist-packages/IPython/core/display_functions.py\": 1705278739.0, \"/usr/lib/python3.12/mimetypes.py\": 1750269585.0, \"/usr/lib/python3/dist-packages/IPython/testing/__init__.py\": 1705278739.0, \"/usr/lib/python3/dist-packages/IPython/testing/skipdoctest.py\": 1705278739.0, \"/usr/lib/python3/dist-packages/IPython/core/display.py\": 1705278739.0, \"/usr/lib/python3/dist-packages/IPython/lib/__init__.py\": 1705278739.0, \"/usr/lib/python3/dist-packages/IPython/lib/display.py\": 1705278739.0, \"/usr/lib/python3/dist-packages/IPython/display.py\": 1705278739.0, \"/usr/lib/python3/dist-packages/IPython/utils/data.py\": 1705278739.0, \"/usr/lib/python3/dist-packages/IPython/core/page.py\": 1705278739.0, \"/usr/lib/python3/dist-packages/IPython/lib/pretty.py\": 1705278739.0, \"/usr/lib/python3/dist-packages/IPython/utils/openpy.py\": 1705278739.0, \"/usr/lib/python3/dist-packages/IPython/utils/dir2.py\": 1705278739.0, \"/usr/lib/python3/dist-packages/IPython/utils/wildcard.py\": 1705278739.0, \"/usr/lib/python3/dist-packages/pygments/lexers/_mapping.py\": 1706880380.0, \"/usr/lib/python3/dist-packages/pygments/modeline.py\": 1706880380.0, \"/usr/lib/python3/dist-packages/pygments/lexers/__init__.py\": 1706880380.0, \"/usr/lib/python3/dist-packages/pygments/filter.py\": 1706880380.0, \"/usr/lib/python3/dist-packages/pygments/filters/__init__.py\": 1706880380.0, \"/usr/lib/python3/dist-packages/pygments/regexopt.py\": 1706880380.0, \"/usr/lib/python3/dist-packages/pygments/lexer.py\": 1706880380.0, \"/usr/lib/python3/dist-packages/pygments/unistring.py\": 1706880380.0, \"/usr/lib/python3/dist-packages/pygments/lexers/python.py\": 1706880380.0, \"/usr/lib/python3/dist-packages/pygments/formatters/html.py\": 1706880380.0, \"/usr/lib/python3/dist-packages/IPython/core/oinspect.py\": 1705278739.0, \"/usr/lib/python3/dist-packages/IPython/utils/tokenutil.py\": 1705278739.0, \"/usr/lib/python3/dist-packages/IPython/core/inputtransformer2.py\": 1705278739.0, \"/usr/lib/python3/dist-packages/IPython/core/magic.py\": 1705278739.0, \"/usr/lib/python3/dist-packages/pickleshare.py\": 1537903014.0, \"/usr/lib/python3/dist-packages/IPython/core/hooks.py\": 1705278739.0, \"/usr/lib/python3/dist-packages/IPython/core/autocall.py\": 1705278739.0, \"/usr/lib/python3/dist-packages/IPython/core/macro.py\": 1705278739.0, \"/usr/lib/python3/dist-packages/IPython/core/splitinput.py\": 1705278739.0, \"/usr/lib/python3/dist-packages/IPython/core/prefilter.py\": 1705278739.0, \"/usr/lib/python3/dist-packages/IPython/core/alias.py\": 1705278739.0, \"/usr/lib/python3/dist-packages/IPython/core/builtin_trap.py\": 1705278739.0, \"/usr/lib/python3/dist-packages/IPython/core/displayhook.py\": 1705278739.0, \"/usr/lib/python3/dist-packages/IPython/core/displaypub.py\": 1705278739.0, \"/usr/lib/python3/dist-packages/IPython/core/events.py\": 1705278739.0, \"/usr/lib/python3/dist-packages/IPython/core/extensions.py\": 1705278739.0, \"/usr/lib/python3/dist-packages/decorator.py\": 1641541809.0, \"/usr/lib/python3/dist-packages/IPython/utils/sentinel.py\": 1705278739.0, \"/usr/lib/python3/dist-packages/IPython/core/formatters.py\": 1705278739.0, \"/usr/lib/python3.12/lib-dynload/_sqlite3.cpython-312-x86_64-linux-gnu.so\": 1750269585.0, \"/usr/lib/python3.12/sqlite3/dbapi2.py\": 1750269585.0, \"/usr/lib/python3.12/sqlite3/__init__.py\": 1750269585.0, \"/usr/lib/python3/dist-packages/IPython/core/history.py\": 1705278739.0, \"/usr/lib/python3/dist-packages/IPython/core/logger.py\": 1705278739.0, \"/usr/lib/python3/dist-packages/IPython/core/payload.py\": 1705278739.0, \"/usr/lib/python3/dist-packages/IPython/core/usage.py\": 1705278739.0, \"/usr/lib/python3/dist-packages/IPython/utils/capture.py\": 1705278739.0, \"/usr/lib/python3/dist-packages/IPython/utils/io.py\": 1705278739.0, \"/usr/lib/python3/dist-packages/IPython/utils/strdispatch.py\": 1705278739.0, \"/usr/lib/python3/dist-packages/IPython/utils/syspathcontext.py\": 1705278739.0, \"/usr/lib/python3/dist-packages/IPython/core/async_helpers.py\": 1705278739.0, \"/usr/lib/python3/dist-packages/IPython/core/interactiveshell.py\": 1705278739.0, \"/usr/lib/python3/dist-packages/prompt_toolkit/application/current.py\": 1702457083.0, \"/usr/lib/python3/dist-packages/prompt_toolkit/eventloop/utils.py\": 1702457083.0, \"/usr/lib/python3/dist-packages/prompt_toolkit/eventloop/async_generator.py\": 1702457083.0, \"/usr/lib/python3/dist-packages/prompt_toolkit/eventloop/inputhook.py\": 1702457083.0, \"/usr/lib/python3/dist-packages/prompt_toolkit/eventloop/__init__.py\": 1702457083.0, \"/usr/lib/python3/dist-packages/prompt_toolkit/application/run_in_terminal.py\": 1702457083.0, \"/usr/lib/python3/dist-packages/prompt_toolkit/selection.py\": 1702457083.0, \"/usr/lib/python3/dist-packages/prompt_toolkit/clipboard/base.py\": 1702457083.0, \"/usr/lib/python3/dist-packages/prompt_toolkit/clipboard/in_memory.py\": 1702457083.0, \"/usr/lib/python3/dist-packages/prompt_toolkit/clipboard/__init__.py\": 1702457083.0, \"/usr/lib/python3/dist-packages/prompt_toolkit/cache.py\": 1702457083.0, \"/usr/lib/python3/dist-packages/prompt_toolkit/enums.py\": 1702457083.0, \"/usr/lib/python3/dist-packages/prompt_toolkit/filters/base.py\": 1702457083.0, \"/usr/lib/python3/dist-packages/prompt_toolkit/filters/app.py\": 1702457083.0, \"/usr/lib/python3/dist-packages/prompt_toolkit/filters/cli.py\": 1702457083.0, \"/usr/lib/python3/dist-packages/prompt_toolkit/filters/utils.py\": 1702457083.0, \"/usr/lib/python3/dist-packages/prompt_toolkit/filters/__init__.py\": 1702457083.0, \"/usr/lib/python3/dist-packages/prompt_toolkit/document.py\": 1702457083.0, \"/usr/lib/python3/dist-packages/prompt_toolkit/auto_suggest.py\": 1702457083.0, \"/usr/lib/python3/dist-packages/prompt_toolkit/keys.py\": 1702457083.0, \"/usr/lib/python3/dist-packages/prompt_toolkit/key_binding/key_bindings.py\": 1702457083.0, \"/usr/lib/python3/dist-packages/wcwidth/table_wide.py\": 1695408262.0, \"/usr/lib/python3/dist-packages/wcwidth/table_zero.py\": 1695408262.0, \"/usr/lib/python3/dist-packages/wcwidth/unicode_versions.py\": 1695408262.0, \"/usr/lib/python3/dist-packages/wcwidth/wcwidth.py\": 1592928534.0, \"/usr/lib/python3/dist-packages/wcwidth/__init__.py\": 1592928534.0, \"/usr/lib/python3/dist-packages/prompt_toolkit/utils.py\": 1702457083.0, \"/usr/lib/python3/dist-packages/prompt_toolkit/key_binding/key_processor.py\": 1702457083.0, \"/usr/lib/python3/dist-packages/prompt_toolkit/key_binding/__init__.py\": 1702457083.0, \"/usr/lib/python3/dist-packages/prompt_toolkit/key_binding/vi_state.py\": 1702457083.0, \"/usr/lib/python3/dist-packages/prompt_toolkit/cursor_shapes.py\": 1702457083.0, \"/usr/lib/python3/dist-packages/prompt_toolkit/data_structures.py\": 1702457083.0, \"/usr/lib/python3/dist-packages/prompt_toolkit/styles/base.py\": 1702457083.0, \"/usr/lib/python3/dist-packages/prompt_toolkit/styles/named_colors.py\": 1702457083.0, \"/usr/lib/python3/dist-packages/prompt_toolkit/styles/style.py\": 1702457083.0, \"/usr/lib/python3/dist-packages/prompt_toolkit/styles/defaults.py\": 1702457083.0, \"/usr/lib/python3/dist-packages/prompt_toolkit/styles/pygments.py\": 1702457083.0, \"/usr/lib/python3.12/colorsys.py\": 1750269585.0, \"/usr/lib/python3/dist-packages/prompt_toolkit/styles/style_transformation.py\": 1702457083.0, \"/usr/lib/python3/dist-packages/prompt_toolkit/styles/__init__.py\": 1702457083.0, \"/usr/lib/python3/dist-packages/prompt_toolkit/output/color_depth.py\": 1702457083.0, \"/usr/lib/python3/dist-packages/prompt_toolkit/output/base.py\": 1702457083.0, \"/usr/lib/python3/dist-packages/prompt_toolkit/output/flush_stdout.py\": 1702457083.0, \"/usr/lib/python3/dist-packages/prompt_toolkit/output/plain_text.py\": 1702457083.0, \"/usr/lib/python3/dist-packages/prompt_toolkit/output/defaults.py\": 1702457083.0, \"/usr/lib/python3/dist-packages/prompt_toolkit/output/__init__.py\": 1702457083.0, \"/usr/lib/python3/dist-packages/prompt_toolkit/output/vt100.py\": 1702457083.0, \"/usr/lib/python3/dist-packages/prompt_toolkit/mouse_events.py\": 1702457083.0, \"/usr/lib/python3/dist-packages/prompt_toolkit/formatted_text/base.py\": 1702457083.0, \"/usr/lib/python3/dist-packages/prompt_toolkit/formatted_text/ansi.py\": 1702457083.0, \"/usr/lib/python3.12/xml/__init__.py\": 1750269585.0, \"/usr/lib/python3.12/xml/dom/domreg.py\": 1750269585.0, \"/usr/lib/python3.12/xml/dom/__init__.py\": 1750269585.0, \"/usr/lib/python3.12/xml/dom/minicompat.py\": 1750269585.0, \"/usr/lib/python3.12/xml/dom/NodeFilter.py\": 1750269585.0, \"/usr/lib/python3.12/xml/dom/xmlbuilder.py\": 1750269585.0, \"/usr/lib/python3.12/xml/dom/minidom.py\": 1750269585.0, \"/usr/lib/python3/dist-packages/prompt_toolkit/formatted_text/html.py\": 1702457083.0, \"/usr/lib/python3/dist-packages/prompt_toolkit/formatted_text/pygments.py\": 1702457083.0, \"/usr/lib/python3/dist-packages/prompt_toolkit/formatted_text/utils.py\": 1702457083.0, \"/usr/lib/python3/dist-packages/prompt_toolkit/formatted_text/__init__.py\": 1702457083.0, \"/usr/lib/python3/dist-packages/prompt_toolkit/completion/base.py\": 1702457083.0, \"/usr/lib/python3/dist-packages/prompt_toolkit/completion/deduplicate.py\": 1702457083.0, \"/usr/lib/python3/dist-packages/prompt_toolkit/completion/filesystem.py\": 1702457083.0, \"/usr/lib/python3/dist-packages/prompt_toolkit/completion/word_completer.py\": 1702457083.0, \"/usr/lib/python3/dist-packages/prompt_toolkit/completion/fuzzy_completer.py\": 1702457083.0, \"/usr/lib/python3/dist-packages/prompt_toolkit/completion/nested.py\": 1702457083.0, \"/usr/lib/python3/dist-packages/prompt_toolkit/completion/__init__.py\": 1702457083.0, \"/usr/lib/python3/dist-packages/prompt_toolkit/history.py\": 1702457083.0, \"/usr/lib/python3/dist-packages/prompt_toolkit/search.py\": 1702457083.0, \"/usr/lib/python3/dist-packages/prompt_toolkit/validation.py\": 1702457083.0, \"/usr/lib/python3/dist-packages/prompt_toolkit/buffer.py\": 1702457083.0, \"/usr/lib/python3/dist-packages/prompt_toolkit/input/base.py\": 1702457083.0, \"/usr/lib/python3/dist-packages/prompt_toolkit/input/defaults.py\": 1702457083.0, \"/usr/lib/python3/dist-packages/prompt_toolkit/input/__init__.py\": 1702457083.0, \"/usr/lib/python3/dist-packages/prompt_toolkit/input/typeahead.py\": 1702457083.0, \"/usr/lib/python3/dist-packages/prompt_toolkit/key_binding/bindings/__init__.py\": 1702457083.0, \"/usr/lib/python3/dist-packages/prompt_toolkit/key_binding/bindings/scroll.py\": 1702457083.0, \"/usr/lib/python3/dist-packages/prompt_toolkit/key_binding/bindings/page_navigation.py\": 1702457083.0, \"/usr/lib/python3/dist-packages/prompt_toolkit/lexers/base.py\": 1702457083.0, \"/usr/lib/python3/dist-packages/prompt_toolkit/lexers/pygments.py\": 1702457083.0, \"/usr/lib/python3/dist-packages/prompt_toolkit/lexers/__init__.py\": 1702457083.0, \"/usr/lib/python3/dist-packages/prompt_toolkit/layout/utils.py\": 1702457083.0, \"/usr/lib/python3/dist-packages/prompt_toolkit/layout/processors.py\": 1702457083.0, \"/usr/lib/python3/dist-packages/prompt_toolkit/layout/controls.py\": 1702457083.0, \"/usr/lib/python3/dist-packages/prompt_toolkit/layout/dimension.py\": 1702457083.0, \"/usr/lib/python3/dist-packages/prompt_toolkit/layout/margins.py\": 1702457083.0, \"/usr/lib/python3/dist-packages/prompt_toolkit/layout/mouse_handlers.py\": 1702457083.0, \"/usr/lib/python3/dist-packages/prompt_toolkit/layout/screen.py\": 1702457083.0, \"/usr/lib/python3/dist-packages/prompt_toolkit/layout/containers.py\": 1702457083.0, \"/usr/lib/python3/dist-packages/prompt_toolkit/layout/layout.py\": 1702457083.0, \"/usr/lib/python3/dist-packages/prompt_toolkit/layout/menus.py\": 1702457083.0, \"/usr/lib/python3/dist-packages/prompt_toolkit/layout/scrollable_pane.py\": 1702457083.0, \"/usr/lib/python3/dist-packages/prompt_toolkit/layout/__init__.py\": 1702457083.0, \"/usr/lib/python3/dist-packages/prompt_toolkit/key_binding/bindings/completion.py\": 1702457083.0, \"/usr/lib/python3/dist-packages/prompt_toolkit/key_binding/bindings/named_commands.py\": 1702457083.0, \"/usr/lib/python3/dist-packages/prompt_toolkit/key_binding/bindings/basic.py\": 1702457083.0, \"/usr/lib/python3/dist-packages/prompt_toolkit/key_binding/bindings/cpr.py\": 1702457083.0, \"/usr/lib/python3/dist-packages/prompt_toolkit/key_binding/bindings/emacs.py\": 1702457083.0, \"/usr/lib/python3/dist-packages/prompt_toolkit/key_binding/bindings/mouse.py\": 1702457083.0, \"/usr/lib/python3/dist-packages/prompt_toolkit/input/ansi_escape_sequences.py\": 1702457083.0, \"/usr/lib/python3/dist-packages/prompt_toolkit/input/vt100_parser.py\": 1702457083.0, \"/usr/lib/python3/dist-packages/prompt_toolkit/key_binding/digraphs.py\": 1702457083.0, \"/usr/lib/python3/dist-packages/prompt_toolkit/key_binding/bindings/vi.py\": 1702457083.0, \"/usr/lib/python3/dist-packages/prompt_toolkit/key_binding/defaults.py\": 1702457083.0, \"/usr/lib/python3/dist-packages/prompt_toolkit/key_binding/emacs_state.py\": 1702457083.0, \"/usr/lib/python3/dist-packages/prompt_toolkit/layout/dummy.py\": 1702457083.0, \"/usr/lib/python3/dist-packages/prompt_toolkit/renderer.py\": 1702457083.0, \"/usr/lib/python3/dist-packages/prompt_toolkit/application/application.py\": 1702457083.0, \"/usr/lib/python3/dist-packages/prompt_toolkit/application/dummy.py\": 1702457083.0, \"/usr/lib/python3/dist-packages/prompt_toolkit/application/__init__.py\": 1702457083.0, \"/usr/lib/python3/dist-packages/prompt_toolkit/key_binding/bindings/focus.py\": 1702457083.0, \"/usr/lib/python3/dist-packages/prompt_toolkit/widgets/toolbars.py\": 1702457083.0, \"/usr/lib/python3/dist-packages/prompt_toolkit/widgets/base.py\": 1702457083.0, \"/usr/lib/python3/dist-packages/prompt_toolkit/widgets/dialogs.py\": 1702457083.0, \"/usr/lib/python3/dist-packages/prompt_toolkit/widgets/menus.py\": 1702457083.0, \"/usr/lib/python3/dist-packages/prompt_toolkit/widgets/__init__.py\": 1702457083.0, \"/usr/lib/python3/dist-packages/prompt_toolkit/shortcuts/dialogs.py\": 1702457083.0, \"/usr/lib/python3/dist-packages/prompt_toolkit/shortcuts/progress_bar/formatters.py\": 1702457083.0, \"/usr/lib/python3/dist-packages/prompt_toolkit/shortcuts/progress_bar/base.py\": 1702457083.0, \"/usr/lib/python3/dist-packages/prompt_toolkit/shortcuts/progress_bar/__init__.py\": 1702457083.0, \"/usr/lib/python3/dist-packages/prompt_toolkit/key_binding/bindings/auto_suggest.py\": 1702457083.0, \"/usr/lib/python3/dist-packages/prompt_toolkit/key_binding/bindings/open_in_editor.py\": 1702457083.0, \"/usr/lib/python3/dist-packages/prompt_toolkit/shortcuts/prompt.py\": 1702457083.0, \"/usr/lib/python3/dist-packages/prompt_toolkit/shortcuts/utils.py\": 1702457083.0, \"/usr/lib/python3/dist-packages/prompt_toolkit/shortcuts/__init__.py\": 1702457083.0, \"/usr/lib/python3/dist-packages/prompt_toolkit/__init__.py\": 1702457083.0, \"/usr/lib/python3/dist-packages/prompt_toolkit/patch_stdout.py\": 1702457083.0, \"/usr/lib/python3/dist-packages/IPython/core/guarded_eval.py\": 1705278739.0, \"/usr/lib/python3/dist-packages/IPython/core/latex_symbols.py\": 1705278739.0, \"/usr/lib/python3/dist-packages/IPython/utils/generics.py\": 1705278739.0, \"/usr/lib/python3/dist-packages/parso/utils.py\": 1638306252.0, \"/usr/lib/python3/dist-packages/parso/tree.py\": 1638306252.0, \"/usr/lib/python3/dist-packages/parso/python/__init__.py\": 1638306252.0, \"/usr/lib/python3/dist-packages/parso/python/token.py\": 1638306252.0, \"/usr/lib/python3/dist-packages/parso/python/tokenize.py\": 1638306252.0, \"/usr/lib/python3/dist-packages/parso/pgen2/grammar_parser.py\": 1638306252.0, \"/usr/lib/python3/dist-packages/parso/pgen2/generator.py\": 1638306252.0, \"/usr/lib/python3/dist-packages/parso/pgen2/__init__.py\": 1638306252.0, \"/usr/lib/python3/dist-packages/parso/parser.py\": 1638306252.0, \"/usr/lib/python3/dist-packages/parso/_compatibility.py\": 1638306252.0, \"/usr/lib/python3.12/difflib.py\": 1750269585.0, \"/usr/lib/python3/dist-packages/parso/python/prefix.py\": 1638306252.0, \"/usr/lib/python3/dist-packages/parso/python/tree.py\": 1638306252.0, \"/usr/lib/python3/dist-packages/parso/python/parser.py\": 1638306252.0, \"/usr/lib/python3/dist-packages/parso/python/diff.py\": 1638306252.0, \"/usr/lib/python3/dist-packages/parso/cache.py\": 1638306252.0, \"/usr/lib/python3/dist-packages/parso/normalizer.py\": 1638306252.0, \"/usr/lib/python3/dist-packages/parso/python/errors.py\": 1670164629.0, \"/usr/lib/python3/dist-packages/parso/python/pep8.py\": 1638306252.0, \"/usr/lib/python3/dist-packages/parso/file_io.py\": 1638306252.0, \"/usr/lib/python3/dist-packages/parso/grammar.py\": 1638306252.0, \"/usr/lib/python3/dist-packages/parso/__init__.py\": 1638306252.0, \"/usr/lib/python3/dist-packages/jedi/parser_utils.py\": 1696238274.0, \"/usr/lib/python3/dist-packages/jedi/debug.py\": 1696238274.0, \"/usr/lib/python3/dist-packages/jedi/settings.py\": 1696238274.0, \"/usr/lib/python3/dist-packages/jedi/cache.py\": 1696238274.0, \"/usr/lib/python3/dist-packages/jedi/file_io.py\": 1696238274.0, \"/usr/lib/python3/dist-packages/jedi/inference/cache.py\": 1696238274.0, \"/usr/lib/python3/dist-packages/jedi/inference/helpers.py\": 1696238274.0, \"/usr/lib/python3/dist-packages/jedi/inference/utils.py\": 1696238274.0, \"/usr/lib/python3/dist-packages/jedi/inference/base_value.py\": 1696238274.0, \"/usr/lib/python3/dist-packages/jedi/inference/sys_path.py\": 1696238274.0, \"/usr/lib/python3/dist-packages/jedi/inference/recursion.py\": 1696238274.0, \"/usr/lib/python3/dist-packages/jedi/inference/flow_analysis.py\": 1696238274.0, \"/usr/lib/python3/dist-packages/jedi/common.py\": 1696238274.0, \"/usr/lib/python3/dist-packages/jedi/inference/lazy_value.py\": 1696238274.0, \"/usr/lib/python3/dist-packages/jedi/inference/docstrings.py\": 1696238274.0, \"/usr/lib/python3/dist-packages/jedi/plugins/__init__.py\": 1696238274.0, \"/usr/lib/python3/dist-packages/jedi/inference/names.py\": 1696238274.0, \"/usr/lib/python3/dist-packages/jedi/inference/filters.py\": 1696238274.0, \"/usr/lib/python3/dist-packages/jedi/inference/compiled/getattr_static.py\": 1696238274.0, \"/usr/lib/python3/dist-packages/jedi/inference/compiled/access.py\": 1696238274.0, \"/usr/lib/python3/dist-packages/jedi/inference/signature.py\": 1696238274.0, \"/usr/lib/python3/dist-packages/jedi/inference/context.py\": 1696238274.0, \"/usr/lib/python3/dist-packages/jedi/inference/compiled/value.py\": 1696238274.0, \"/usr/lib/python3/dist-packages/jedi/inference/compiled/__init__.py\": 1696238274.0, \"/usr/lib/python3/dist-packages/jedi/inference/analysis.py\": 1696238274.0, \"/usr/lib/python3/dist-packages/jedi/inference/gradual/__init__.py\": 1696238274.0, \"/usr/lib/python3/dist-packages/jedi/inference/value/module.py\": 1696238274.0, \"/usr/lib/python3/dist-packages/jedi/inference/value/dynamic_arrays.py\": 1696238274.0, \"/usr/lib/python3/dist-packages/jedi/inference/value/iterable.py\": 1696238274.0, \"/usr/lib/python3/dist-packages/jedi/inference/arguments.py\": 1696238274.0, \"/usr/lib/python3/dist-packages/jedi/inference/parser_cache.py\": 1696238274.0, \"/usr/lib/python3/dist-packages/jedi/inference/gradual/generics.py\": 1696238274.0, \"/usr/lib/python3/dist-packages/jedi/inference/value/function.py\": 1696238274.0, \"/usr/lib/python3/dist-packages/jedi/inference/value/klass.py\": 1696238274.0, \"/usr/lib/python3/dist-packages/jedi/inference/value/instance.py\": 1696238274.0, \"/usr/lib/python3/dist-packages/jedi/inference/value/__init__.py\": 1696238274.0, \"/usr/lib/python3/dist-packages/jedi/inference/gradual/base.py\": 1696238274.0, \"/usr/lib/python3/dist-packages/jedi/inference/gradual/type_var.py\": 1696238274.0, \"/usr/lib/python3/dist-packages/jedi/inference/gradual/typing.py\": 1696238274.0, \"/usr/lib/python3/dist-packages/jedi/inference/gradual/stub_value.py\": 1696238274.0, \"/usr/lib/python3/dist-packages/jedi/inference/gradual/typeshed.py\": 1696238274.0, \"/usr/lib/python3/dist-packages/jedi/_compatibility.py\": 1696238274.0, \"/usr/lib/python3/dist-packages/jedi/inference/compiled/subprocess/functions.py\": 1696238274.0, \"/usr/lib/python3/dist-packages/jedi/api/exceptions.py\": 1696238274.0, \"/usr/lib/python3/dist-packages/jedi/inference/compiled/subprocess/__init__.py\": 1696238274.0, \"/usr/lib/python3/dist-packages/jedi/inference/imports.py\": 1696238274.0, \"/usr/lib/python3/dist-packages/jedi/inference/param.py\": 1696238274.0, \"/usr/lib/python3/dist-packages/jedi/inference/gradual/annotation.py\": 1696238274.0, \"/usr/lib/python3/dist-packages/jedi/inference/value/decorator.py\": 1696238274.0, \"/usr/lib/python3/dist-packages/jedi/inference/syntax_tree.py\": 1696238274.0, \"/usr/lib/python3/dist-packages/jedi/inference/__init__.py\": 1696238274.0, \"/usr/lib/python3/dist-packages/jedi/inference/gradual/conversion.py\": 1696238274.0, \"/usr/lib/python3/dist-packages/jedi/inference/compiled/mixed.py\": 1696238274.0, \"/usr/lib/python3.12/pydoc_data/__init__.py\": 1750269585.0, \"/usr/lib/python3.12/pydoc_data/topics.py\": 1750269585.0, \"/usr/lib/python3/dist-packages/jedi/api/keywords.py\": 1696238274.0, \"/usr/lib/python3/dist-packages/jedi/api/completion_cache.py\": 1696238274.0, \"/usr/lib/python3/dist-packages/jedi/api/helpers.py\": 1696238274.0, \"/usr/lib/python3/dist-packages/jedi/api/classes.py\": 1696238274.0, \"/usr/lib/python3/dist-packages/jedi/api/interpreter.py\": 1696238274.0, \"/usr/lib/python3/dist-packages/jedi/api/strings.py\": 1696238274.0, \"/usr/lib/python3/dist-packages/jedi/api/file_name.py\": 1696238274.0, \"/usr/lib/python3/dist-packages/jedi/inference/docstring_utils.py\": 1696238274.0, \"/usr/lib/python3/dist-packages/jedi/api/completion.py\": 1696238274.0, \"/usr/lib/python3.12/filecmp.py\": 1750269585.0, \"/usr/lib/python3/dist-packages/jedi/api/environment.py\": 1707640722.0, \"/usr/lib/python3/dist-packages/jedi/inference/references.py\": 1696238274.0, \"/usr/lib/python3/dist-packages/jedi/api/project.py\": 1696238274.0, \"/usr/lib/python3/dist-packages/jedi/api/errors.py\": 1696238274.0, \"/usr/lib/python3/dist-packages/jedi/inference/value/namespace.py\": 1696238274.0, \"/usr/lib/python3/dist-packages/jedi/api/refactoring/__init__.py\": 1696238274.0, \"/usr/lib/python3/dist-packages/jedi/api/refactoring/extract.py\": 1696238274.0, \"/usr/lib/python3/dist-packages/jedi/inference/gradual/utils.py\": 1696238274.0, \"/usr/lib/python3/dist-packages/jedi/api/__init__.py\": 1696238274.0, \"/usr/lib/python3/dist-packages/jedi/plugins/stdlib.py\": 1696238274.0, \"/usr/lib/python3/dist-packages/jedi/plugins/flask.py\": 1696238274.0, \"/usr/lib/python3/dist-packages/jedi/plugins/pytest.py\": 1696238274.0, \"/usr/lib/python3/dist-packages/jedi/plugins/django.py\": 1696238274.0, \"/usr/lib/python3/dist-packages/jedi/plugins/registry.py\": 1696238274.0, \"/usr/lib/python3/dist-packages/jedi/__init__.py\": 1696238274.0, \"/usr/lib/python3/dist-packages/IPython/core/completer.py\": 1705278739.0, \"/usr/lib/python3/dist-packages/IPython/terminal/ptutils.py\": 1705278739.0, \"/usr/lib/python3/dist-packages/IPython/terminal/shortcuts/auto_match.py\": 1705278739.0, \"/usr/lib/python3/dist-packages/IPython/terminal/shortcuts/filters.py\": 1705278739.0, \"/usr/lib/python3/dist-packages/IPython/terminal/shortcuts/auto_suggest.py\": 1705278739.0, \"/usr/lib/python3/dist-packages/IPython/terminal/shortcuts/__init__.py\": 1705278739.0, \"/usr/lib/python3.12/concurrent/futures/thread.py\": 1750269585.0, \"/usr/lib/python3/dist-packages/IPython/terminal/debugger.py\": 1705278739.0, \"/usr/lib/python3/dist-packages/IPython/lib/clipboard.py\": 1705278739.0, \"/usr/lib/python3/dist-packages/IPython/terminal/magics.py\": 1705278739.0, \"/usr/lib/python3/dist-packages/IPython/terminal/pt_inputhooks/__init__.py\": 1705278739.0, \"/usr/lib/python3/dist-packages/IPython/terminal/prompts.py\": 1705278739.0, \"/usr/lib/python3/dist-packages/IPython/terminal/interactiveshell.py\": 1705278739.0, \"/usr/lib/python3/dist-packages/IPython/core/magics/auto.py\": 1705278739.0, \"/usr/lib/python3/dist-packages/IPython/core/magics/basic.py\": 1705278739.0, \"/usr/lib/python3.12/email/__init__.py\": 1750269585.0, \"/usr/lib/python3.12/http/__init__.py\": 1750269585.0, \"/usr/lib/python3.12/email/errors.py\": 1750269585.0, \"/usr/lib/python3.12/email/quoprimime.py\": 1750269585.0, \"/usr/lib/python3.12/email/base64mime.py\": 1750269585.0, \"/usr/lib/python3.12/quopri.py\": 1750269585.0, \"/usr/lib/python3.12/email/encoders.py\": 1750269585.0, \"/usr/lib/python3.12/email/charset.py\": 1750269585.0, \"/usr/lib/python3.12/email/header.py\": 1750269585.0, \"/usr/lib/python3.12/email/_parseaddr.py\": 1750269585.0, \"/usr/lib/python3.12/email/utils.py\": 1750269585.0, \"/usr/lib/python3.12/email/_policybase.py\": 1750269585.0, \"/usr/lib/python3.12/email/feedparser.py\": 1750269585.0, \"/usr/lib/python3.12/email/parser.py\": 1750269585.0, \"/usr/lib/python3.12/email/_encoded_words.py\": 1750269585.0, \"/usr/lib/python3.12/email/iterators.py\": 1750269585.0, \"/usr/lib/python3.12/email/message.py\": 1750269585.0, \"/usr/lib/python3.12/http/client.py\": 1750269585.0, \"/usr/lib/python3.12/urllib/response.py\": 1750269585.0, \"/usr/lib/python3.12/urllib/error.py\": 1750269585.0, \"/usr/lib/python3.12/urllib/request.py\": 1750269585.0, \"/usr/lib/python3/dist-packages/IPython/utils/contexts.py\": 1705278739.0, \"/usr/lib/python3/dist-packages/IPython/core/magics/code.py\": 1705278739.0, \"/usr/lib/python3/dist-packages/IPython/core/magics/config.py\": 1705278739.0, \"/usr/lib/python3/dist-packages/IPython/core/magics/display.py\": 1705278739.0, \"/usr/lib/python3.12/lib-dynload/_lsprof.cpython-312-x86_64-linux-gnu.so\": 1750269585.0, \"/usr/lib/python3.12/profile.py\": 1750269585.0, \"/usr/lib/python3.12/cProfile.py\": 1750269585.0, \"/usr/lib/python3.12/pstats.py\": 1750269585.0, \"/usr/lib/python3.12/timeit.py\": 1750269585.0, \"/usr/lib/python3/dist-packages/IPython/utils/module_paths.py\": 1705278739.0, \"/usr/lib/python3/dist-packages/IPython/utils/timing.py\": 1705278739.0, \"/usr/lib/python3/dist-packages/IPython/core/magics/ast_mod.py\": 1705278739.0, \"/usr/lib/python3/dist-packages/IPython/core/magics/execution.py\": 1705278739.0, \"/usr/lib/python3/dist-packages/IPython/core/magics/extension.py\": 1705278739.0, \"/usr/lib/python3/dist-packages/IPython/core/magics/history.py\": 1705278739.0, \"/usr/lib/python3/dist-packages/IPython/core/magics/logging.py\": 1705278739.0, \"/usr/lib/python3/dist-packages/IPython/core/magics/namespace.py\": 1705278739.0, \"/usr/lib/python3/dist-packages/IPython/core/magics/osm.py\": 1705278739.0, \"/usr/lib/python3/dist-packages/IPython/core/magics/packaging.py\": 1705278739.0, \"/usr/lib/python3/dist-packages/IPython/core/pylabtools.py\": 1705278739.0, \"/usr/lib/python3/dist-packages/IPython/core/magics/pylab.py\": 1705278739.0, \"/usr/lib/python3/dist-packages/IPython/core/magics/script.py\": 1705278739.0, \"/usr/lib/python3/dist-packages/IPython/core/magics/__init__.py\": 1705278739.0, \"/usr/lib/python3/dist-packages/IPython/core/shellapp.py\": 1705278739.0, \"/usr/lib/python3/dist-packages/IPython/extensions/__init__.py\": 1705278739.0, \"/usr/lib/python3/dist-packages/IPython/extensions/storemagic.py\": 1705278739.0, \"/usr/lib/python3/dist-packages/IPython/terminal/ipapp.py\": 1705278739.0, \"/usr/lib/python3/dist-packages/IPython/terminal/embed.py\": 1705278739.0, \"/usr/lib/python3/dist-packages/IPython/utils/frame.py\": 1705278739.0, \"/usr/lib/python3/dist-packages/IPython/__init__.py\": 1705278739.0, \"/usr/lib/python3/dist-packages/ipykernel/control.py\": 1705011938.0, \"/usr/lib/python3/dist-packages/ipykernel/heartbeat.py\": 1705011938.0, \"/usr/lib/python3/dist-packages/ipykernel/iostream.py\": 1705011938.0, \"/usr/lib/python3/dist-packages/comm/base_comm.py\": 1706654717.0, \"/usr/lib/python3/dist-packages/comm/__init__.py\": 1706654717.0, \"/usr/lib/python3/dist-packages/ipykernel/jsonutil.py\": 1705011938.0, \"/usr/lib/python3/dist-packages/psutil/_common.py\": 1712593040.0, \"/usr/lib/python3/dist-packages/psutil/_compat.py\": 1712593040.0, \"/usr/lib/python3/dist-packages/psutil/_psposix.py\": 1712593040.0, \"/usr/lib/python3/dist-packages/psutil/_psutil_linux.abi3.so\": 1712593040.0, \"/usr/lib/python3/dist-packages/psutil/_psutil_posix.abi3.so\": 1712593040.0, \"/usr/lib/python3/dist-packages/psutil/_pslinux.py\": 1712593040.0, \"/usr/lib/python3/dist-packages/psutil/__init__.py\": 1712593040.0, \"/usr/lib/python3/dist-packages/tornado/locks.py\": 1701227939.0, \"/usr/lib/python3/dist-packages/tornado/queues.py\": 1701227939.0, \"/usr/lib/python3/dist-packages/ipykernel/kernelbase.py\": 1705011938.0, \"/usr/lib/python3/dist-packages/ipykernel/comm/comm.py\": 1705011938.0, \"/usr/lib/python3/dist-packages/ipykernel/comm/manager.py\": 1705011938.0, \"/usr/lib/python3/dist-packages/ipykernel/comm/__init__.py\": 1705011938.0, \"/usr/lib/python3/dist-packages/ipykernel/compiler.py\": 1705011938.0, \"/usr/lib/python3/dist-packages/debugpy/_version.py\": 1713453740.0, \"/usr/lib/python3/dist-packages/debugpy/public_api.py\": 1713453740.0, \"/usr/lib/python3/dist-packages/debugpy/__init__.py\": 1713453740.0, \"/usr/lib/python3/dist-packages/debugpy/_vendored/_util.py\": 1713453740.0, \"/usr/lib/python3/dist-packages/debugpy/_vendored/__init__.py\": 1713453740.0, \"/usr/lib/python3/dist-packages/debugpy/_vendored/pydevd/_pydevd_bundle/__init__.py\": 1696769301.0, \"/usr/lib/python3.12/encodings/ascii.py\": 1750269585.0, \"/usr/lib/python3.12/encodings/latin_1.py\": 1750269585.0, \"/usr/lib/python3.12/stringprep.py\": 1750269585.0, \"/usr/lib/python3.12/encodings/idna.py\": 1750269585.0, \"/usr/lib/python3/dist-packages/debugpy/_vendored/pydevd/_pydevd_bundle/pydevd_vm_type.py\": 1696769301.0, \"/usr/lib/python3/dist-packages/debugpy/_vendored/pydevd/_pydev_bundle/__init__.py\": 1696769301.0, \"/usr/lib/python3.12/xmlrpc/__init__.py\": 1750269585.0, \"/usr/lib/python3.12/xml/parsers/__init__.py\": 1750269585.0, \"/usr/lib/python3.12/xml/parsers/expat.py\": 1750269585.0, \"/usr/lib/python3.12/gzip.py\": 1750269585.0, \"/usr/lib/python3.12/xmlrpc/client.py\": 1750269585.0, \"/usr/lib/python3.12/http/server.py\": 1750269585.0, \"/usr/lib/python3.12/xmlrpc/server.py\": 1750269585.0, \"/usr/lib/python3/dist-packages/debugpy/_vendored/pydevd/_pydev_bundle/_pydev_saved_modules.py\": 1696769301.0, \"/usr/lib/python3/dist-packages/debugpy/_vendored/pydevd/_pydevd_bundle/pydevd_constants.py\": 1696769301.0, \"/usr/lib/python3/dist-packages/debugpy/_vendored/pydevd/_pydev_runfiles/__init__.py\": 1696769301.0, \"/usr/lib/python3/dist-packages/debugpy/_vendored/pydevd/_pydevd_frame_eval/__init__.py\": 1696769301.0, \"/usr/lib/python3/dist-packages/debugpy/_vendored/pydevd/pydev_ipython/__init__.py\": 1696769301.0, \"/usr/lib/python3/dist-packages/debugpy/_vendored/pydevd/pydevd_plugins/__init__.py\": 1696769301.0, \"/usr/lib/python3/dist-packages/debugpy/_vendored/pydevd/_pydev_bundle/pydev_log.py\": 1696769301.0, \"/usr/lib/python3/dist-packages/debugpy/_vendored/pydevd/_pydev_bundle/_pydev_filesystem_encoding.py\": 1696769301.0, \"/usr/lib/python3/dist-packages/debugpy/_vendored/pydevd/_pydevd_bundle/pydevd_comm_constants.py\": 1696769301.0, \"/usr/lib/python3/dist-packages/debugpy/_vendored/pydevd/pydevd_file_utils.py\": 1696769301.0, \"/usr/lib/python3/dist-packages/debugpy/_vendored/pydevd/_pydev_bundle/_pydev_execfile.py\": 1696769301.0, \"/usr/lib/python3/dist-packages/debugpy/_vendored/pydevd/_pydevd_bundle/pydevd_exec2.py\": 1696769301.0, \"/usr/lib/python3/dist-packages/debugpy/_vendored/pydevd/_pydev_bundle/pydev_imports.py\": 1696769301.0, \"/usr/lib/python3/dist-packages/debugpy/_vendored/pydevd/_pydev_bundle/pydev_is_thread_alive.py\": 1696769301.0, \"/usr/lib/python3/dist-packages/debugpy/_vendored/pydevd/_pydev_bundle/pydev_override.py\": 1696769301.0, \"/usr/lib/python3/dist-packages/debugpy/_vendored/pydevd/pydevd_plugins/extensions/__init__.py\": 1696769301.0, \"/usr/lib/python3/dist-packages/debugpy/_vendored/pydevd/_pydevd_bundle/pydevd_extension_utils.py\": 1696769301.0, \"/usr/lib/python3/dist-packages/debugpy/_vendored/pydevd/_pydevd_bundle/pydevd_frame_utils.py\": 1696769301.0, \"/usr/lib/python3/dist-packages/debugpy/_vendored/pydevd/_pydevd_bundle/pydevd_filtering.py\": 1696769301.0, \"/usr/lib/python3/dist-packages/debugpy/_vendored/pydevd/_pydevd_bundle/pydevd_io.py\": 1696769301.0, \"/usr/lib/python3/dist-packages/debugpy/_vendored/pydevd/_pydevd_bundle/pydevd_defaults.py\": 1696769301.0, \"/usr/lib/python3/dist-packages/debugpy/_vendored/pydevd/_pydevd_bundle/pydevd_utils.py\": 1696769301.0, \"/usr/lib/python3/dist-packages/debugpy/_vendored/pydevd/_pydevd_bundle/pydevd_runpy.py\": 1708592199.0, \"/usr/lib/python3/dist-packages/debugpy/_vendored/pydevd/_pydev_bundle/_pydev_tipper_common.py\": 1696769301.0, \"/usr/lib/python3/dist-packages/debugpy/_vendored/pydevd/_pydev_bundle/_pydev_imports_tipper.py\": 1696769301.0, \"/usr/lib/python3/dist-packages/debugpy/_vendored/pydevd/_pydev_bundle/_pydev_calltip_util.py\": 1696769301.0, \"/usr/lib/python3/dist-packages/debugpy/_vendored/pydevd/_pydevd_bundle/pydevd_safe_repr.py\": 1696769301.0, \"/usr/lib/python3/dist-packages/debugpy/_vendored/pydevd/_pydevd_bundle/pydevd_resolver.py\": 1696769301.0, \"/usr/lib/python3/dist-packages/debugpy/_vendored/pydevd/_pydevd_bundle/pydevd_extension_api.py\": 1696769301.0, \"/usr/lib/python3/dist-packages/debugpy/_vendored/pydevd/_pydevd_bundle/pydevd_xml.py\": 1696769301.0, \"/usr/lib/python3/dist-packages/debugpy/_vendored/pydevd/_pydevd_bundle/pydevd_dont_trace.py\": 1696769301.0, \"/usr/lib/python3/dist-packages/bytecode/flags.py\": 1703703852.0, \"/usr/lib/python3/dist-packages/bytecode/instr.py\": 1703703852.0, \"/usr/lib/python3/dist-packages/bytecode/bytecode.py\": 1703703852.0, \"/usr/lib/python3/dist-packages/bytecode/concrete.py\": 1703703852.0, \"/usr/lib/python3/dist-packages/bytecode/cfg.py\": 1703703852.0, \"/usr/lib/python3/dist-packages/bytecode/version.py\": 1703703852.0, \"/usr/lib/python3/dist-packages/bytecode/__init__.py\": 1703703852.0, \"/usr/lib/python3/dist-packages/debugpy/_vendored/pydevd/_pydevd_bundle/pydevd_bytecode_utils.py\": 1708592199.0, \"/usr/lib/python3/dist-packages/debugpy/_vendored/pydevd/_pydevd_bundle/pydevd_cython.cpython-312-x86_64-linux-gnu.so\": 1708592199.0, \"/usr/lib/python3/dist-packages/debugpy/_vendored/pydevd/_pydevd_bundle/pydevd_cython_wrapper.py\": 1696769301.0, \"/usr/lib/python3/dist-packages/debugpy/_vendored/pydevd/_pydevd_bundle/pydevd_additional_thread_info.py\": 1696769301.0, \"/usr/lib/python3/dist-packages/debugpy/_vendored/pydevd/_pydevd_bundle/pydevd_thread_lifecycle.py\": 1696769301.0, \"/usr/lib/python3/dist-packages/debugpy/_vendored/pydevd/_pydevd_bundle/pydevd_save_locals.py\": 1696769301.0, \"/usr/lib/python3/dist-packages/debugpy/_vendored/pydevd/_pydev_bundle/pydev_monkey.py\": 1696769301.0, \"/usr/lib/python3/dist-packages/debugpy/_vendored/pydevd/pydevd_tracing.py\": 1708592199.0, \"/usr/lib/python3/dist-packages/debugpy/_vendored/pydevd/_pydevd_bundle/pydevd_collect_bytecode_info.py\": 1696769301.0, \"/usr/lib/python3/dist-packages/debugpy/_vendored/pydevd/_pydevd_bundle/pydevd_daemon_thread.py\": 1696769301.0, \"/usr/lib/python3/dist-packages/debugpy/_vendored/pydevd/_pydevd_bundle/pydevd_timeout.py\": 1696769301.0, \"/usr/lib/python3/dist-packages/debugpy/_vendored/pydevd/_pydevd_bundle/pydevd_vars.py\": 1696769301.0, \"/usr/lib/python3/dist-packages/debugpy/_vendored/pydevd/_pydev_bundle/pydev_console_utils.py\": 1696769301.0, \"/usr/lib/python3/dist-packages/debugpy/_vendored/pydevd/_pydevd_bundle/pydevd_import_class.py\": 1696769301.0, \"/usr/lib/python3/dist-packages/debugpy/_vendored/pydevd/_pydevd_bundle/pydevd_breakpoints.py\": 1696769301.0, \"/usr/lib/python3/dist-packages/debugpy/_vendored/pydevd/_pydevd_bundle/pydevd_custom_frames.py\": 1696769301.0, \"/usr/lib/python3/dist-packages/debugpy/_vendored/pydevd/_pydevd_bundle/pydevd_dont_trace_files.py\": 1696769301.0, \"/usr/lib/python3/dist-packages/debugpy/_vendored/pydevd/_pydevd_bundle/pydevd_net_command.py\": 1696769301.0, \"/usr/lib/python3/dist-packages/debugpy/_vendored/pydevd/_pydevd_bundle/pydevconsole_code.py\": 1696769301.0, \"/usr/lib/python3/dist-packages/debugpy/_vendored/pydevd/_pydev_bundle/pydev_umd.py\": 1696769301.0, \"/usr/lib/python3/dist-packages/debugpy/_vendored/pydevd/pydevconsole.py\": 1696769301.0, \"/usr/lib/python3/dist-packages/debugpy/_vendored/pydevd/_pydev_bundle/_pydev_completer.py\": 1696769301.0, \"/usr/lib/python3/dist-packages/debugpy/_vendored/pydevd/_pydevd_bundle/pydevd_net_command_factory_xml.py\": 1696769301.0, \"/usr/lib/python3/dist-packages/debugpy/_vendored/pydevd/_pydevd_bundle/pydevd_frame.py\": 1696769301.0, \"/usr/lib/python3/dist-packages/debugpy/_vendored/pydevd/_pydevd_bundle/pydevd_additional_thread_info_regular.py\": 1696769301.0, \"/usr/lib/python3/dist-packages/debugpy/_vendored/pydevd/_pydevd_bundle/pydevd_trace_dispatch.py\": 1696769301.0, \"/usr/lib/python3/dist-packages/debugpy/_vendored/pydevd/_pydevd_frame_eval/pydevd_frame_eval_main.py\": 1696769301.0, \"/usr/lib/python3/dist-packages/debugpy/_vendored/pydevd/_pydevd_bundle/pydevd_source_mapping.py\": 1696769301.0, \"/usr/lib/python3/dist-packages/debugpy/_vendored/pydevd/_pydevd_bundle/pydevd_concurrency_analyser/__init__.py\": 1696769301.0, \"/usr/lib/python3/dist-packages/debugpy/_vendored/pydevd/_pydevd_bundle/pydevd_concurrency_analyser/pydevd_thread_wrappers.py\": 1696769301.0, \"/usr/lib/python3/dist-packages/debugpy/_vendored/pydevd/_pydevd_bundle/pydevd_concurrency_analyser/pydevd_concurrency_logger.py\": 1696769301.0, \"/usr/lib/python3/dist-packages/debugpy/_vendored/pydevd/_pydevd_bundle/_debug_adapter/__init__.py\": 1696769301.0, \"/usr/lib/python3/dist-packages/debugpy/_vendored/pydevd/_pydevd_bundle/_debug_adapter/pydevd_schema_log.py\": 1696769301.0, \"/usr/lib/python3/dist-packages/debugpy/_vendored/pydevd/_pydevd_bundle/_debug_adapter/pydevd_base_schema.py\": 1696769301.0, \"/usr/lib/python3/dist-packages/debugpy/_vendored/pydevd/_pydevd_bundle/_debug_adapter/pydevd_schema.py\": 1696769301.0, \"/usr/lib/python3/dist-packages/debugpy/_vendored/pydevd/_pydevd_bundle/pydevd_reload.py\": 1696769301.0, \"/usr/lib/python3/dist-packages/debugpy/_vendored/pydevd/_pydev_bundle/fsnotify/__init__.py\": 1696769301.0, \"/usr/lib/python3/dist-packages/debugpy/_vendored/pydevd/_pydevd_bundle/pydevd_console.py\": 1696769301.0, \"/usr/lib/python3/dist-packages/debugpy/_vendored/pydevd/_pydevd_bundle/pydevd_comm.py\": 1696769301.0, \"/usr/lib/python3/dist-packages/debugpy/_vendored/pydevd/_pydevd_bundle/pydevd_net_command_factory_json.py\": 1696769301.0, \"/usr/lib/python3/dist-packages/debugpy/_vendored/pydevd/_pydevd_bundle/pydevd_api.py\": 1696769301.0, \"/usr/lib/python3/dist-packages/debugpy/_vendored/pydevd/_pydevd_bundle/pydevd_json_debug_options.py\": 1696769301.0, \"/usr/lib/python3/dist-packages/debugpy/_vendored/pydevd/_pydevd_bundle/pydevd_process_net_command_json.py\": 1696769301.0, \"/usr/lib/python3/dist-packages/debugpy/_vendored/pydevd/_pydevd_bundle/pydevd_traceproperty.py\": 1696769301.0, \"/usr/lib/python3/dist-packages/debugpy/_vendored/pydevd/_pydevd_bundle/pydevd_process_net_command.py\": 1696769301.0, \"/usr/lib/python3/dist-packages/debugpy/_vendored/pydevd/_pydevd_bundle/pydevd_suspended_frames.py\": 1696769301.0, \"/usr/lib/python3/dist-packages/debugpy/_vendored/pydevd/_pydevd_bundle/pydevd_trace_api.py\": 1696769301.0, \"/usr/lib/python3/dist-packages/debugpy/_vendored/pydevd/pydevd_plugins/pydevd_line_validation.py\": 1696769301.0, \"/usr/lib/python3/dist-packages/debugpy/_vendored/pydevd/pydevd_plugins/django_debug.py\": 1696769301.0, \"/usr/lib/python3/dist-packages/debugpy/_vendored/pydevd/pydevd_plugins/jinja2_debug.py\": 1696769301.0, \"/usr/lib/python3/dist-packages/debugpy/_vendored/pydevd/_pydevd_bundle/pydevd_plugin_utils.py\": 1696769301.0, \"/usr/lib/python3/dist-packages/debugpy/_vendored/pydevd/pydevd_plugins/extensions/types/__init__.py\": 1696769301.0, \"/usr/lib/python3/dist-packages/debugpy/_vendored/pydevd/pydevd_plugins/extensions/types/pydevd_helpers.py\": 1696769301.0, \"/usr/lib/python3/dist-packages/debugpy/_vendored/pydevd/pydevd_plugins/extensions/types/pydevd_plugin_numpy_types.py\": 1696769301.0, \"/usr/lib/python3/dist-packages/debugpy/_vendored/pydevd/pydevd_plugins/extensions/types/pydevd_plugin_pandas_types.py\": 1696769301.0, \"/usr/lib/python3/dist-packages/debugpy/_vendored/pydevd/pydevd_plugins/extensions/types/pydevd_plugins_django_form_str.py\": 1696769301.0, \"/usr/lib/python3/dist-packages/debugpy/_vendored/pydevd/pydevd.py\": 1696769301.0, \"/usr/lib/python3/dist-packages/debugpy/_vendored/force_pydevd.py\": 1713453740.0, \"/usr/lib/python3/dist-packages/debugpy/server/__init__.py\": 1713453740.0, \"/usr/lib/python3/dist-packages/debugpy/adapter/__init__.py\": 1713453740.0, \"/usr/lib/python3/dist-packages/debugpy/common/__init__.py\": 1713453740.0, \"/usr/lib/python3/dist-packages/debugpy/common/json.py\": 1713453740.0, \"/usr/lib/python3/dist-packages/debugpy/common/timestamp.py\": 1713453740.0, \"/usr/lib/python3/dist-packages/debugpy/common/util.py\": 1713453740.0, \"/usr/lib/python3/dist-packages/debugpy/common/log.py\": 1713453740.0, \"/usr/lib/python3/dist-packages/debugpy/common/sockets.py\": 1713453740.0, \"/usr/lib/python3/dist-packages/debugpy/server/api.py\": 1713453740.0, \"/usr/lib/python3/dist-packages/ipykernel/debugger.py\": 1705011938.0, \"/usr/lib/python3/dist-packages/packaging/__init__.py\": 1712071250.0, \"/usr/lib/python3/dist-packages/packaging/_structures.py\": 1712071250.0, \"/usr/lib/python3/dist-packages/packaging/version.py\": 1712071250.0, \"/usr/lib/python3/dist-packages/ipykernel/eventloops.py\": 1705011938.0, \"/usr/lib/python3/dist-packages/IPython/core/payloadpage.py\": 1705278739.0, \"/usr/lib/python3/dist-packages/ipykernel/displayhook.py\": 1705011938.0, \"/usr/lib/python3/dist-packages/ipykernel/zmqshell.py\": 1705011938.0, \"/usr/lib/python3/dist-packages/ipykernel/ipkernel.py\": 1705011938.0, \"/usr/lib/python3/dist-packages/ipykernel/parentpoller.py\": 1705011938.0, \"/usr/lib/python3/dist-packages/ipykernel/kernelapp.py\": 1705011938.0, \"/usr/lib/python3/dist-packages/netifaces.cpython-312-x86_64-linux-gnu.so\": 1712592863.0, \"/usr/lib/python3/dist-packages/IPython/core/completerlib.py\": 1705278739.0, \"/usr/lib/python3/dist-packages/numpy/_utils/_convertions.py\": 1712056321.0, \"/usr/lib/python3/dist-packages/numpy/_utils/__init__.py\": 1712056321.0, \"/usr/lib/python3/dist-packages/numpy/_globals.py\": 1712056321.0, \"/usr/lib/python3/dist-packages/numpy/exceptions.py\": 1712056321.0, \"/usr/lib/python3/dist-packages/numpy/version.py\": 1712056321.0, \"/usr/lib/python3/dist-packages/numpy/_distributor_init.py\": 1712056321.0, \"/usr/lib/python3/dist-packages/numpy/_utils/_inspect.py\": 1712056321.0, \"/usr/lib/python3/dist-packages/numpy/core/_exceptions.py\": 1712056321.0, \"/usr/lib/python3/dist-packages/numpy/dtypes.py\": 1712056321.0, \"/usr/lib/python3/dist-packages/numpy/core/_multiarray_umath.cpython-312-x86_64-linux-gnu.so\": 1712056321.0, \"/usr/lib/python3/dist-packages/numpy/core/overrides.py\": 1712056321.0, \"/usr/lib/python3/dist-packages/numpy/core/multiarray.py\": 1712056321.0, \"/usr/lib/python3/dist-packages/numpy/core/umath.py\": 1712056321.0, \"/usr/lib/python3/dist-packages/numpy/core/_string_helpers.py\": 1712056321.0, \"/usr/lib/python3/dist-packages/numpy/compat/py3k.py\": 1712056321.0, \"/usr/lib/python3/dist-packages/numpy/compat/__init__.py\": 1712056321.0, \"/usr/lib/python3/dist-packages/numpy/core/_dtype.py\": 1712056321.0, \"/usr/lib/python3/dist-packages/numpy/core/_type_aliases.py\": 1712056321.0, \"/usr/lib/python3/dist-packages/numpy/core/numerictypes.py\": 1712056321.0, \"/usr/lib/python3/dist-packages/numpy/core/_ufunc_config.py\": 1712056321.0, \"/usr/lib/python3/dist-packages/numpy/core/_methods.py\": 1712056321.0, \"/usr/lib/python3/dist-packages/numpy/core/fromnumeric.py\": 1712056321.0, \"/usr/lib/python3/dist-packages/numpy/core/shape_base.py\": 1712056321.0, \"/usr/lib/python3/dist-packages/numpy/core/arrayprint.py\": 1712056321.0, \"/usr/lib/python3/dist-packages/numpy/core/_asarray.py\": 1712056321.0, \"/usr/lib/python3/dist-packages/numpy/core/numeric.py\": 1712056321.0, \"/usr/lib/python3/dist-packages/numpy/core/defchararray.py\": 1712056321.0, \"/usr/lib/python3/dist-packages/numpy/core/records.py\": 1712056321.0, \"/usr/lib/python3/dist-packages/numpy/core/memmap.py\": 1712056321.0, \"/usr/lib/python3/dist-packages/numpy/core/function_base.py\": 1712056321.0, \"/usr/lib/python3/dist-packages/numpy/core/_machar.py\": 1712056321.0, \"/usr/lib/python3/dist-packages/numpy/core/getlimits.py\": 1712056321.0, \"/usr/lib/python3/dist-packages/numpy/core/einsumfunc.py\": 1712056321.0, \"/usr/lib/python3/dist-packages/numpy/core/_multiarray_tests.cpython-312-x86_64-linux-gnu.so\": 1712056321.0, \"/usr/lib/python3/dist-packages/numpy/core/_add_newdocs.py\": 1712056321.0, \"/usr/lib/python3/dist-packages/numpy/core/_add_newdocs_scalars.py\": 1712056321.0, \"/usr/lib/python3/dist-packages/numpy/core/_dtype_ctypes.py\": 1712056321.0, \"/usr/lib/python3/dist-packages/numpy/core/_internal.py\": 1712056321.0, \"/usr/lib/python3/dist-packages/numpy/_pytesttester.py\": 1712056321.0, \"/usr/lib/python3/dist-packages/numpy/core/__init__.py\": 1712056321.0, \"/usr/lib/python3/dist-packages/numpy/__config__.py\": 1712056321.0, \"/usr/lib/python3/dist-packages/numpy/lib/mixins.py\": 1712056321.0, \"/usr/lib/python3/dist-packages/numpy/lib/ufunclike.py\": 1712056321.0, \"/usr/lib/python3/dist-packages/numpy/lib/type_check.py\": 1712056321.0, \"/usr/lib/python3/dist-packages/numpy/lib/scimath.py\": 1712056321.0, \"/usr/lib/python3/dist-packages/numpy/lib/stride_tricks.py\": 1712056321.0, \"/usr/lib/python3/dist-packages/numpy/lib/twodim_base.py\": 1712056321.0, \"/usr/lib/python3/dist-packages/numpy/linalg/_umath_linalg.cpython-312-x86_64-linux-gnu.so\": 1712056321.0, \"/usr/lib/python3/dist-packages/numpy/_typing/_nested_sequence.py\": 1712056321.0, \"/usr/lib/python3/dist-packages/numpy/_typing/_nbit.py\": 1712056321.0, \"/usr/lib/python3/dist-packages/numpy/_typing/_char_codes.py\": 1712056321.0, \"/usr/lib/python3/dist-packages/numpy/_typing/_scalars.py\": 1712056321.0, \"/usr/lib/python3/dist-packages/numpy/_typing/_shape.py\": 1712056321.0, \"/usr/lib/python3/dist-packages/numpy/_typing/_dtype_like.py\": 1712056321.0, \"/usr/lib/python3/dist-packages/numpy/_typing/_array_like.py\": 1712056321.0, \"/usr/lib/python3/dist-packages/numpy/_typing/__init__.py\": 1712056321.0, \"/usr/lib/python3/dist-packages/numpy/linalg/linalg.py\": 1712056321.0, \"/usr/lib/python3/dist-packages/numpy/linalg/__init__.py\": 1712056321.0, \"/usr/lib/python3/dist-packages/numpy/matrixlib/defmatrix.py\": 1712056321.0, \"/usr/lib/python3/dist-packages/numpy/matrixlib/__init__.py\": 1712056321.0, \"/usr/lib/python3/dist-packages/numpy/lib/histograms.py\": 1712056321.0, \"/usr/lib/python3/dist-packages/numpy/lib/function_base.py\": 1712056321.0, \"/usr/lib/python3/dist-packages/numpy/lib/index_tricks.py\": 1712056321.0, \"/usr/lib/python3/dist-packages/numpy/lib/nanfunctions.py\": 1712056321.0, \"/usr/lib/python3/dist-packages/numpy/lib/shape_base.py\": 1712056321.0, \"/usr/lib/python3/dist-packages/numpy/lib/polynomial.py\": 1712056321.0, \"/usr/lib/python3/dist-packages/numpy/lib/utils.py\": 1712056321.0, \"/usr/lib/python3/dist-packages/numpy/lib/arraysetops.py\": 1712056321.0, \"/usr/lib/python3/dist-packages/numpy/lib/format.py\": 1712056321.0, \"/usr/lib/python3/dist-packages/numpy/lib/_datasource.py\": 1712056321.0, \"/usr/lib/python3/dist-packages/numpy/lib/_iotools.py\": 1712056321.0, \"/usr/lib/python3/dist-packages/numpy/lib/npyio.py\": 1712056321.0, \"/usr/lib/python3/dist-packages/numpy/lib/arrayterator.py\": 1712056321.0, \"/usr/lib/python3/dist-packages/numpy/lib/arraypad.py\": 1712056321.0, \"/usr/lib/python3/dist-packages/numpy/lib/_version.py\": 1712056321.0, \"/usr/lib/python3/dist-packages/numpy/lib/__init__.py\": 1712056321.0, \"/usr/lib/python3/dist-packages/numpy/fft/_pocketfft_internal.cpython-312-x86_64-linux-gnu.so\": 1712056321.0, \"/usr/lib/python3/dist-packages/numpy/fft/_pocketfft.py\": 1712056321.0, \"/usr/lib/python3/dist-packages/numpy/fft/helper.py\": 1712056321.0, \"/usr/lib/python3/dist-packages/numpy/fft/__init__.py\": 1712056321.0, \"/usr/lib/python3/dist-packages/numpy/polynomial/polyutils.py\": 1712056321.0, \"/usr/lib/python3/dist-packages/numpy/polynomial/_polybase.py\": 1712056321.0, \"/usr/lib/python3/dist-packages/numpy/polynomial/polynomial.py\": 1712056321.0, \"/usr/lib/python3/dist-packages/numpy/polynomial/chebyshev.py\": 1712056321.0, \"/usr/lib/python3/dist-packages/numpy/polynomial/legendre.py\": 1712056321.0, \"/usr/lib/python3/dist-packages/numpy/polynomial/hermite.py\": 1712056321.0, \"/usr/lib/python3/dist-packages/numpy/polynomial/hermite_e.py\": 1712056321.0, \"/usr/lib/python3/dist-packages/numpy/polynomial/laguerre.py\": 1712056321.0, \"/usr/lib/python3/dist-packages/numpy/polynomial/__init__.py\": 1712056321.0, \"/usr/lib/python3/dist-packages/numpy/random/_common.cpython-312-x86_64-linux-gnu.so\": 1712056321.0, \"/usr/lib/python3.12/secrets.py\": 1750269585.0, \"/usr/lib/python3/dist-packages/numpy/random/bit_generator.cpython-312-x86_64-linux-gnu.so\": 1712056321.0, \"/usr/lib/python3/dist-packages/numpy/random/_bounded_integers.cpython-312-x86_64-linux-gnu.so\": 1712056321.0, \"/usr/lib/python3/dist-packages/numpy/random/_mt19937.cpython-312-x86_64-linux-gnu.so\": 1712056321.0, \"/usr/lib/python3/dist-packages/numpy/random/mtrand.cpython-312-x86_64-linux-gnu.so\": 1712056321.0, \"/usr/lib/python3/dist-packages/numpy/random/_philox.cpython-312-x86_64-linux-gnu.so\": 1712056321.0, \"/usr/lib/python3/dist-packages/numpy/random/_pcg64.cpython-312-x86_64-linux-gnu.so\": 1712056321.0, \"/usr/lib/python3/dist-packages/numpy/random/_sfc64.cpython-312-x86_64-linux-gnu.so\": 1712056321.0, \"/usr/lib/python3/dist-packages/numpy/random/_generator.cpython-312-x86_64-linux-gnu.so\": 1712056321.0, \"/usr/lib/python3/dist-packages/numpy/random/_pickle.py\": 1712056321.0, \"/usr/lib/python3/dist-packages/numpy/random/__init__.py\": 1712056321.0, \"/usr/lib/python3/dist-packages/numpy/ctypeslib.py\": 1712056321.0, \"/usr/lib/python3/dist-packages/numpy/ma/core.py\": 1712056321.0, \"/usr/lib/python3/dist-packages/numpy/ma/extras.py\": 1712056321.0, \"/usr/lib/python3/dist-packages/numpy/ma/__init__.py\": 1712056321.0, \"/usr/lib/python3/dist-packages/numpy/__init__.py\": 1712056321.0, \"/usr/lib/python3/dist-packages/matplotlib/_api/deprecation.py\": 1673476167.0, \"/usr/lib/python3/dist-packages/matplotlib/_api/__init__.py\": 1673476167.0, \"/usr/lib/python3/dist-packages/matplotlib/_version.py\": 1712942112.0, \"/usr/lib/python3/dist-packages/matplotlib/_c_internal_utils.cpython-312-x86_64-linux-gnu.so\": 1712942112.0, \"/usr/lib/python3/dist-packages/matplotlib/cbook/__init__.py\": 1673476167.0, \"/usr/lib/python3/dist-packages/matplotlib/_docstring.py\": 1673476167.0, \"/usr/lib/python3/dist-packages/PIL/_version.py\": 1704180751.0, \"/usr/lib/python3/dist-packages/PIL/__init__.py\": 1704180751.0, \"/usr/lib/python3/dist-packages/defusedxml/common.py\": 1615201080.0, \"/usr/lib/python3/dist-packages/defusedxml/__init__.py\": 1615201080.0, \"/usr/lib/python3.12/xml/etree/__init__.py\": 1750269585.0, \"/usr/lib/python3.12/xml/etree/ElementPath.py\": 1750269585.0, \"/usr/lib/python3.12/xml/etree/ElementTree.py\": 1750269585.0, \"/usr/lib/python3/dist-packages/defusedxml/ElementTree.py\": 1615201080.0, \"/usr/lib/python3/dist-packages/PIL/ExifTags.py\": 1704180751.0, \"/usr/lib/python3/dist-packages/PIL/ImageMode.py\": 1704180751.0, \"/usr/lib/python3/dist-packages/PIL/TiffTags.py\": 1704180751.0, \"/usr/lib/python3/dist-packages/PIL/_binary.py\": 1704180751.0, \"/usr/lib/python3/dist-packages/PIL/_typing.py\": 1704180751.0, \"/usr/lib/python3/dist-packages/PIL/_util.py\": 1704180751.0, \"/usr/lib/python3/dist-packages/PIL/_imaging.cpython-312-x86_64-linux-gnu.so\": 1713190242.0, \"/usr/lib/python3/dist-packages/PIL/Image.py\": 1704180751.0, \"/usr/lib/python3/dist-packages/PIL/ImageChops.py\": 1704180751.0, \"/usr/lib/python3/dist-packages/PIL/_deprecate.py\": 1704180751.0, \"/usr/lib/python3/dist-packages/PIL/ImageFile.py\": 1704180751.0, \"/usr/lib/python3/dist-packages/PIL/GimpGradientFile.py\": 1704180751.0, \"/usr/lib/python3/dist-packages/PIL/GimpPaletteFile.py\": 1704180751.0, \"/usr/lib/python3/dist-packages/PIL/ImageColor.py\": 1704180751.0, \"/usr/lib/python3/dist-packages/PIL/PaletteFile.py\": 1704180751.0, \"/usr/lib/python3/dist-packages/PIL/ImagePalette.py\": 1704180751.0, \"/usr/lib/python3/dist-packages/PIL/ImageSequence.py\": 1704180751.0, \"/usr/lib/python3/dist-packages/PIL/PngImagePlugin.py\": 1704180751.0, \"/usr/lib/python3/dist-packages/matplotlib/_cm.py\": 1673476167.0, \"/usr/lib/python3/dist-packages/matplotlib/_path.cpython-312-x86_64-linux-gnu.so\": 1712942112.0, \"/usr/lib/python3/dist-packages/matplotlib/bezier.py\": 1673476167.0, \"/usr/lib/python3/dist-packages/matplotlib/path.py\": 1673476167.0, \"/usr/lib/python3/dist-packages/matplotlib/transforms.py\": 1673476167.0, \"/usr/lib/python3/dist-packages/matplotlib/ticker.py\": 1673476167.0, \"/usr/lib/python3/dist-packages/matplotlib/scale.py\": 1673476167.0, \"/usr/lib/python3/dist-packages/matplotlib/_color_data.py\": 1673476167.0, \"/usr/lib/python3/dist-packages/matplotlib/colors.py\": 1673476167.0, \"/usr/lib/python3/dist-packages/pyparsing/util.py\": 1693518374.0, \"/usr/lib/python3/dist-packages/pyparsing/unicode.py\": 1693518374.0, \"/usr/lib/python3/dist-packages/pyparsing/exceptions.py\": 1693518374.0, \"/usr/lib/python3/dist-packages/pyparsing/actions.py\": 1693518374.0, \"/usr/lib/python3/dist-packages/pyparsing/results.py\": 1693518374.0, \"/usr/lib/python3/dist-packages/pyparsing/core.py\": 1693518374.0, \"/usr/lib/python3/dist-packages/pyparsing/helpers.py\": 1693518374.0, \"/usr/lib/python3/dist-packages/pyparsing/testing.py\": 1693518374.0, \"/usr/lib/python3/dist-packages/pyparsing/common.py\": 1693518374.0, \"/usr/lib/python3/dist-packages/pyparsing/__init__.py\": 1693518374.0, \"/usr/lib/python3/dist-packages/matplotlib/_fontconfig_pattern.py\": 1673476167.0, \"/usr/lib/python3/dist-packages/matplotlib/_enums.py\": 1673476167.0, \"/usr/lib/python3/dist-packages/cycler.py\": 1635478421.0, \"/usr/lib/python3/dist-packages/matplotlib/rcsetup.py\": 1673476167.0, \"/usr/lib/python3/dist-packages/matplotlib/ft2font.cpython-312-x86_64-linux-gnu.so\": 1712942112.0, \"/usr/lib/python3/dist-packages/kiwisolver/_cext.cpython-312-x86_64-linux-gnu.so\": 1711876006.0, \"/usr/lib/python3/dist-packages/kiwisolver/__init__.py\": 1711876006.0, \"/usr/lib/python3/dist-packages/matplotlib/_cm_listed.py\": 1673476167.0, \"/usr/lib/python3/dist-packages/matplotlib/cm.py\": 1673476167.0, \"/usr/lib/python3/dist-packages/matplotlib/__init__.py\": 1712942112.0, \"/usr/lib/python3/dist-packages/matplotlib/artist.py\": 1673476167.0, \"/usr/lib/python3/dist-packages/matplotlib/hatch.py\": 1673476167.0, \"/usr/lib/python3/dist-packages/matplotlib/markers.py\": 1673476167.0, \"/usr/lib/python3/dist-packages/matplotlib/lines.py\": 1673476167.0, \"/usr/lib/python3/dist-packages/matplotlib/collections.py\": 1673476167.0, \"/usr/lib/python3/dist-packages/matplotlib/_pylab_helpers.py\": 1673476167.0, \"/usr/lib/python3/dist-packages/matplotlib/backend_tools.py\": 1673476167.0, \"/usr/lib/python3/dist-packages/matplotlib/_text_helpers.py\": 1673476167.0, \"/usr/lib/python3/dist-packages/matplotlib/dviread.py\": 1673476167.0, \"/usr/lib/python3/dist-packages/matplotlib/_mathtext_data.py\": 1673476167.0, \"/usr/lib/python3/dist-packages/matplotlib/_afm.py\": 1673476167.0, \"/usr/lib/python3/dist-packages/matplotlib/font_manager.py\": 1673476167.0, \"/usr/lib/python3/dist-packages/matplotlib/_mathtext.py\": 1673476167.0, \"/usr/lib/python3/dist-packages/matplotlib/mathtext.py\": 1673476167.0, \"/usr/lib/python3/dist-packages/matplotlib/texmanager.py\": 1673476167.0, \"/usr/lib/python3/dist-packages/matplotlib/textpath.py\": 1673476167.0, \"/usr/lib/python3/dist-packages/matplotlib/_tight_bbox.py\": 1673476167.0, \"/usr/lib/python3/dist-packages/matplotlib/patches.py\": 1673476167.0, \"/usr/lib/python3/dist-packages/matplotlib/widgets.py\": 1673476167.0, \"/usr/lib/python3/dist-packages/matplotlib/backend_managers.py\": 1673476167.0, \"/usr/lib/python3/dist-packages/matplotlib/backend_bases.py\": 1673476167.0, \"/usr/lib/python3/dist-packages/matplotlib/text.py\": 1673476167.0, \"/usr/lib/python3/dist-packages/matplotlib/contour.py\": 1673476167.0, \"/usr/lib/python3/dist-packages/matplotlib/spines.py\": 1673476167.0, \"/usr/lib/python3/dist-packages/matplotlib/colorbar.py\": 1673476167.0, \"/usr/lib/python3/dist-packages/matplotlib/_image.cpython-312-x86_64-linux-gnu.so\": 1712942112.0, \"/usr/lib/python3/dist-packages/matplotlib/image.py\": 1673476167.0, \"/usr/lib/python3/dist-packages/matplotlib/style/core.py\": 1673476167.0, \"/usr/lib/python3/dist-packages/matplotlib/style/__init__.py\": 1673476167.0, \"/usr/lib/python3/dist-packages/matplotlib/_blocking_input.py\": 1673476167.0, \"/usr/lib/python3/dist-packages/matplotlib/units.py\": 1673476167.0, \"/usr/lib/python3/dist-packages/matplotlib/category.py\": 1673476167.0, \"/usr/lib/python3/dist-packages/dateutil/rrule.py\": 1626250707.0, \"/usr/lib/python3/dist-packages/matplotlib/dates.py\": 1673476167.0, \"/usr/lib/python3/dist-packages/matplotlib/offsetbox.py\": 1673476167.0, \"/usr/lib/python3/dist-packages/matplotlib/container.py\": 1673476167.0, \"/usr/lib/python3/dist-packages/matplotlib/legend_handler.py\": 1673476167.0, \"/usr/lib/python3/dist-packages/matplotlib/legend.py\": 1673476167.0, \"/usr/lib/python3/dist-packages/matplotlib/mlab.py\": 1673476167.0, \"/usr/lib/python3/dist-packages/matplotlib/quiver.py\": 1673476167.0, \"/usr/lib/python3/dist-packages/matplotlib/stackplot.py\": 1673476167.0, \"/usr/lib/python3/dist-packages/matplotlib/streamplot.py\": 1673476167.0, \"/usr/lib/python3/dist-packages/matplotlib/table.py\": 1673476167.0, \"/usr/lib/python3/dist-packages/matplotlib/tri/triangulation.py\": 1673476167.0, \"/usr/lib/python3/dist-packages/matplotlib/tri/tricontour.py\": 1673476167.0, \"/usr/lib/python3/dist-packages/matplotlib/tri/trifinder.py\": 1673476167.0, \"/usr/lib/python3/dist-packages/matplotlib/tri/tritools.py\": 1673476167.0, \"/usr/lib/python3/dist-packages/matplotlib/tri/triinterpolate.py\": 1673476167.0, \"/usr/lib/python3/dist-packages/matplotlib/tri/tripcolor.py\": 1673476167.0, \"/usr/lib/python3/dist-packages/matplotlib/tri/triplot.py\": 1673476167.0, \"/usr/lib/python3/dist-packages/matplotlib/tri/trirefine.py\": 1673476167.0, \"/usr/lib/python3/dist-packages/matplotlib/tri/__init__.py\": 1673476167.0, \"/usr/lib/python3/dist-packages/matplotlib/axis.py\": 1673476167.0, \"/usr/lib/python3/dist-packages/matplotlib/axes/_base.py\": 1673476167.0, \"/usr/lib/python3/dist-packages/matplotlib/axes/_secondary_axes.py\": 1673476167.0, \"/usr/lib/python3/dist-packages/matplotlib/axes/_axes.py\": 1673476167.0, \"/usr/lib/python3/dist-packages/matplotlib/_tight_layout.py\": 1673476167.0, \"/usr/lib/python3/dist-packages/matplotlib/gridspec.py\": 1673476167.0, \"/usr/lib/python3/dist-packages/matplotlib/axes/_subplots.py\": 1673476167.0, \"/usr/lib/python3/dist-packages/matplotlib/axes/__init__.py\": 1673476167.0, \"/usr/lib/python3/dist-packages/matplotlib/projections/geo.py\": 1673476167.0, \"/usr/lib/python3/dist-packages/matplotlib/projections/polar.py\": 1673476167.0, \"/usr/lib/python3/dist-packages/mpl_toolkits/mplot3d/proj3d.py\": 1673476167.0, \"/usr/lib/python3/dist-packages/mpl_toolkits/mplot3d/art3d.py\": 1673476167.0, \"/usr/lib/python3/dist-packages/mpl_toolkits/mplot3d/axis3d.py\": 1673476167.0, \"/usr/lib/python3/dist-packages/mpl_toolkits/mplot3d/axes3d.py\": 1712942112.0, \"/usr/lib/python3/dist-packages/mpl_toolkits/mplot3d/__init__.py\": 1673476167.0, \"/usr/lib/python3/dist-packages/matplotlib/projections/__init__.py\": 1673476167.0, \"/usr/lib/python3/dist-packages/matplotlib/_layoutgrid.py\": 1673476167.0, \"/usr/lib/python3/dist-packages/matplotlib/_constrained_layout.py\": 1673476167.0, \"/usr/lib/python3/dist-packages/matplotlib/layout_engine.py\": 1673476167.0, \"/usr/lib/python3/dist-packages/matplotlib/figure.py\": 1673476167.0, \"/usr/lib/python3/dist-packages/matplotlib/pyplot.py\": 1712942112.0, \"/usr/lib/python3/dist-packages/matplotlib/backends/__init__.py\": 1673476167.0, \"/usr/lib/python3/dist-packages/matplotlib/backends/_backend_agg.cpython-312-x86_64-linux-gnu.so\": 1712942112.0, \"/usr/lib/python3/dist-packages/matplotlib/backends/backend_agg.py\": 1673476167.0, \"/usr/lib/python3/dist-packages/matplotlib_inline/config.py\": 1660794266.0, \"/usr/lib/python3/dist-packages/matplotlib_inline/backend_inline.py\": 1660794266.0, \"/usr/lib/python3/dist-packages/matplotlib_inline/__init__.py\": 1660794266.0}\n"
     ]
    },
    {
     "name": "stderr",
     "output_type": "stream",
     "text": [
      "/tmp/ipykernel_78865/2545272893.py:25: DeprecationWarning: `set_matplotlib_formats` is deprecated since IPython 7.23, directly use `matplotlib_inline.backend_inline.set_matplotlib_formats()`\n",
      "  set_matplotlib_formats(fig_format)\n"
     ]
    }
   ],
   "source": [
    "\n",
    "# imports\n",
    "import os\n",
    "import sys\n",
    "import types\n",
    "import json\n",
    "import base64\n",
    "\n",
    "# figure size/format\n",
    "fig_width = 7\n",
    "fig_height = 5\n",
    "fig_format = 'retina'\n",
    "fig_dpi = 96\n",
    "interactivity = ''\n",
    "is_shiny = False\n",
    "is_dashboard = False\n",
    "plotly_connected = True\n",
    "\n",
    "# matplotlib defaults / format\n",
    "try:\n",
    "  import matplotlib.pyplot as plt\n",
    "  plt.rcParams['figure.figsize'] = (fig_width, fig_height)\n",
    "  plt.rcParams['figure.dpi'] = fig_dpi\n",
    "  plt.rcParams['savefig.dpi'] = \"figure\"\n",
    "  from IPython.display import set_matplotlib_formats\n",
    "  set_matplotlib_formats(fig_format)\n",
    "except Exception:\n",
    "  pass\n",
    "\n",
    "# plotly use connected mode\n",
    "try:\n",
    "  import plotly.io as pio\n",
    "  if plotly_connected:\n",
    "    pio.renderers.default = \"notebook_connected\"\n",
    "  else:\n",
    "    pio.renderers.default = \"notebook\"\n",
    "  for template in pio.templates.keys():\n",
    "    pio.templates[template].layout.margin = dict(t=30,r=0,b=0,l=0)\n",
    "except Exception:\n",
    "  pass\n",
    "\n",
    "# disable itables paging for dashboards\n",
    "if is_dashboard:\n",
    "  try:\n",
    "    from itables import options\n",
    "    options.dom = 'fiBrtlp'\n",
    "    options.maxBytes = 1024 * 1024\n",
    "    options.language = dict(info = \"Showing _TOTAL_ entries\")\n",
    "    options.classes = \"display nowrap compact\"\n",
    "    options.paging = False\n",
    "    options.searching = True\n",
    "    options.ordering = True\n",
    "    options.info = True\n",
    "    options.lengthChange = False\n",
    "    options.autoWidth = False\n",
    "    options.responsive = True\n",
    "    options.keys = True\n",
    "    options.buttons = []\n",
    "  except Exception:\n",
    "    pass\n",
    "  \n",
    "  try:\n",
    "    import altair as alt\n",
    "    # By default, dashboards will have container sized\n",
    "    # vega visualizations which allows them to flow reasonably\n",
    "    theme_sentinel = '_quarto-dashboard-internal'\n",
    "    def make_theme(name):\n",
    "        nonTheme = alt.themes._plugins[name]    \n",
    "        def patch_theme(*args, **kwargs):\n",
    "            existingTheme = nonTheme()\n",
    "            if 'height' not in existingTheme:\n",
    "              existingTheme['height'] = 'container'\n",
    "            if 'width' not in existingTheme:\n",
    "              existingTheme['width'] = 'container'\n",
    "\n",
    "            if 'config' not in existingTheme:\n",
    "              existingTheme['config'] = dict()\n",
    "            \n",
    "            # Configure the default font sizes\n",
    "            title_font_size = 15\n",
    "            header_font_size = 13\n",
    "            axis_font_size = 12\n",
    "            legend_font_size = 12\n",
    "            mark_font_size = 12\n",
    "            tooltip = False\n",
    "\n",
    "            config = existingTheme['config']\n",
    "\n",
    "            # The Axis\n",
    "            if 'axis' not in config:\n",
    "              config['axis'] = dict()\n",
    "            axis = config['axis']\n",
    "            if 'labelFontSize' not in axis:\n",
    "              axis['labelFontSize'] = axis_font_size\n",
    "            if 'titleFontSize' not in axis:\n",
    "              axis['titleFontSize'] = axis_font_size  \n",
    "\n",
    "            # The legend\n",
    "            if 'legend' not in config:\n",
    "              config['legend'] = dict()\n",
    "            legend = config['legend']\n",
    "            if 'labelFontSize' not in legend:\n",
    "              legend['labelFontSize'] = legend_font_size\n",
    "            if 'titleFontSize' not in legend:\n",
    "              legend['titleFontSize'] = legend_font_size  \n",
    "\n",
    "            # The header\n",
    "            if 'header' not in config:\n",
    "              config['header'] = dict()\n",
    "            header = config['header']\n",
    "            if 'labelFontSize' not in header:\n",
    "              header['labelFontSize'] = header_font_size\n",
    "            if 'titleFontSize' not in header:\n",
    "              header['titleFontSize'] = header_font_size    \n",
    "\n",
    "            # Title\n",
    "            if 'title' not in config:\n",
    "              config['title'] = dict()\n",
    "            title = config['title']\n",
    "            if 'fontSize' not in title:\n",
    "              title['fontSize'] = title_font_size\n",
    "\n",
    "            # Marks\n",
    "            if 'mark' not in config:\n",
    "              config['mark'] = dict()\n",
    "            mark = config['mark']\n",
    "            if 'fontSize' not in mark:\n",
    "              mark['fontSize'] = mark_font_size\n",
    "\n",
    "            # Mark tooltips\n",
    "            if tooltip and 'tooltip' not in mark:\n",
    "              mark['tooltip'] = dict(content=\"encoding\")\n",
    "\n",
    "            return existingTheme\n",
    "            \n",
    "        return patch_theme\n",
    "\n",
    "    # We can only do this once per session\n",
    "    if theme_sentinel not in alt.themes.names():\n",
    "      for name in alt.themes.names():\n",
    "        alt.themes.register(name, make_theme(name))\n",
    "      \n",
    "      # register a sentinel theme so we only do this once\n",
    "      alt.themes.register(theme_sentinel, make_theme('default'))\n",
    "      alt.themes.enable('default')\n",
    "\n",
    "  except Exception:\n",
    "    pass\n",
    "\n",
    "# enable pandas latex repr when targeting pdfs\n",
    "try:\n",
    "  import pandas as pd\n",
    "  if fig_format == 'pdf':\n",
    "    pd.set_option('display.latex.repr', True)\n",
    "except Exception:\n",
    "  pass\n",
    "\n",
    "# interactivity\n",
    "if interactivity:\n",
    "  from IPython.core.interactiveshell import InteractiveShell\n",
    "  InteractiveShell.ast_node_interactivity = interactivity\n",
    "\n",
    "# NOTE: the kernel_deps code is repeated in the cleanup.py file\n",
    "# (we can't easily share this code b/c of the way it is run).\n",
    "# If you edit this code also edit the same code in cleanup.py!\n",
    "\n",
    "# output kernel dependencies\n",
    "kernel_deps = dict()\n",
    "for module in list(sys.modules.values()):\n",
    "  # Some modules play games with sys.modules (e.g. email/__init__.py\n",
    "  # in the standard library), and occasionally this can cause strange\n",
    "  # failures in getattr.  Just ignore anything that's not an ordinary\n",
    "  # module.\n",
    "  if not isinstance(module, types.ModuleType):\n",
    "    continue\n",
    "  path = getattr(module, \"__file__\", None)\n",
    "  if not path:\n",
    "    continue\n",
    "  if path.endswith(\".pyc\") or path.endswith(\".pyo\"):\n",
    "    path = path[:-1]\n",
    "  if not os.path.exists(path):\n",
    "    continue\n",
    "  kernel_deps[path] = os.stat(path).st_mtime\n",
    "print(json.dumps(kernel_deps))\n",
    "\n",
    "# set run_path if requested\n",
    "run_path = 'L21lZGlhL2ZhYnJpY2UvZG9jcy9DbG91ZC9TaXRlc19JbnRlcm5ldC9xdWFydG9fUE5TSS8yMl90YWJsZXM='\n",
    "if run_path:\n",
    "  # hex-decode the path\n",
    "  run_path = base64.b64decode(run_path.encode(\"utf-8\")).decode(\"utf-8\")\n",
    "  os.chdir(run_path)\n",
    "\n",
    "# reset state\n",
    "%reset\n",
    "\n",
    "# shiny\n",
    "# Checking for shiny by using False directly because we're after the %reset. We don't want\n",
    "# to set a variable that stays in global scope.\n",
    "if False:\n",
    "  try:\n",
    "    import htmltools as _htmltools\n",
    "    import ast as _ast\n",
    "\n",
    "    _htmltools.html_dependency_render_mode = \"json\"\n",
    "\n",
    "    # This decorator will be added to all function definitions\n",
    "    def _display_if_has_repr_html(x):\n",
    "      try:\n",
    "        # IPython 7.14 preferred import\n",
    "        from IPython.display import display, HTML\n",
    "      except:\n",
    "        from IPython.core.display import display, HTML\n",
    "\n",
    "      if hasattr(x, '_repr_html_'):\n",
    "        display(HTML(x._repr_html_()))\n",
    "      return x\n",
    "\n",
    "    # ideally we would undo the call to ast_transformers.append\n",
    "    # at the end of this block whenver an error occurs, we do \n",
    "    # this for now as it will only be a problem if the user \n",
    "    # switches from shiny to not-shiny mode (and even then likely\n",
    "    # won't matter)\n",
    "    import builtins\n",
    "    builtins._display_if_has_repr_html = _display_if_has_repr_html\n",
    "\n",
    "    class _FunctionDefReprHtml(_ast.NodeTransformer):\n",
    "      def visit_FunctionDef(self, node):\n",
    "        node.decorator_list.insert(\n",
    "          0,\n",
    "          _ast.Name(id=\"_display_if_has_repr_html\", ctx=_ast.Load())\n",
    "        )\n",
    "        return node\n",
    "\n",
    "      def visit_AsyncFunctionDef(self, node):\n",
    "        node.decorator_list.insert(\n",
    "          0,\n",
    "          _ast.Name(id=\"_display_if_has_repr_html\", ctx=_ast.Load())\n",
    "        )\n",
    "        return node\n",
    "\n",
    "    ip = get_ipython()\n",
    "    ip.ast_transformers.append(_FunctionDefReprHtml())\n",
    "\n",
    "  except:\n",
    "    pass\n",
    "\n",
    "def ojs_define(**kwargs):\n",
    "  import json\n",
    "  try:\n",
    "    # IPython 7.14 preferred import\n",
    "    from IPython.display import display, HTML\n",
    "  except:\n",
    "    from IPython.core.display import display, HTML\n",
    "\n",
    "  # do some minor magic for convenience when handling pandas\n",
    "  # dataframes\n",
    "  def convert(v):\n",
    "    try:\n",
    "      import pandas as pd\n",
    "    except ModuleNotFoundError: # don't do the magic when pandas is not available\n",
    "      return v\n",
    "    if type(v) == pd.Series:\n",
    "      v = pd.DataFrame(v)\n",
    "    if type(v) == pd.DataFrame:\n",
    "      j = json.loads(v.T.to_json(orient='split'))\n",
    "      return dict((k,v) for (k,v) in zip(j[\"index\"], j[\"data\"]))\n",
    "    else:\n",
    "      return v\n",
    "\n",
    "  v = dict(contents=list(dict(name=key, value=convert(value)) for (key, value) in kwargs.items()))\n",
    "  display(HTML('<script type=\"ojs-define\">' + json.dumps(v) + '</script>'), metadata=dict(ojs_define = True))\n",
    "globals()[\"ojs_define\"] = ojs_define\n",
    "globals()[\"__spec__\"] = None"
   ]
  },
  {
   "cell_type": "code",
   "execution_count": 2,
   "id": "d1eb3d87",
   "metadata": {},
   "outputs": [],
   "source": [
    "# ouverture du fichier en mode lecture\n",
    "fichier = open('educ_cantal.csv', mode='r', encoding='utf8', newline='')\n",
    "# extraction de la ligne des attributs\n",
    "attributs = fichier.readline().rstrip().split(',')\n",
    "# extraction des autres lignes\n",
    "table = [ligne.rstrip().split(',') for ligne in fichier]\n",
    "# fermeture du fichier\n",
    "fichier.close()"
   ]
  },
  {
   "cell_type": "code",
   "execution_count": 3,
   "id": "623cd2a0",
   "metadata": {},
   "outputs": [
    {
     "name": "stdout",
     "output_type": "stream",
     "text": [
      "['code', 'nom', 'statut', 'codepostal', 'id_commune', 'latitude', 'longitude']\n",
      "['0150030B', 'Lycée polyvalent de Haute Auvergne', 'Public', '15101', '187', '45.0352036275507', '3.0819798437208243']\n",
      "[['0150001V', 'Collège Maurice Peschaud', 'Public', '15160', '1', '45.230605740493495', '2.9353501250960568'], ['0150005Z', 'Collège La Jordanne', 'Public', '15005', '14', '44.92112535663867', '2.4404905355487023']]\n"
     ]
    }
   ],
   "source": [
    "print(attributs)\n",
    "print(table[18])\n",
    "print(table[:2])"
   ]
  },
  {
   "cell_type": "code",
   "execution_count": 4,
   "id": "4d52eecb",
   "metadata": {},
   "outputs": [],
   "source": [
    "g = open('educ_cantal_copie.csv', mode='w', encoding='utf8', newline='') # ouverture du fichier en mode écriture\n",
    "premiere_ligne = ','.join(attributs) + '\\n'\n",
    "g.write(premiere_ligne)\n",
    "for enregistrement in table:\n",
    "    g.write(','.join(enregistrement) + '\\n')\n",
    "g.close()"
   ]
  },
  {
   "cell_type": "code",
   "execution_count": 5,
   "id": "3012c886",
   "metadata": {},
   "outputs": [],
   "source": [
    "import csv\n",
    "\n",
    "f = open('educ_cantal.csv', mode='r', encoding='utf8', newline='')\n",
    "reader = csv.DictReader(f, delimiter=',')  # création d'un objet reader\n",
    "table = [enregistrement for enregistrement in reader]\n",
    "f.close()"
   ]
  },
  {
   "cell_type": "code",
   "execution_count": 6,
   "id": "6b568aa4",
   "metadata": {},
   "outputs": [
    {
     "name": "stdout",
     "output_type": "stream",
     "text": [
      "{'code': '0150030B', 'nom': 'Lycée polyvalent de Haute Auvergne', 'statut': 'Public', 'codepostal': '15101', 'id_commune': '187', 'latitude': '45.0352036275507', 'longitude': '3.0819798437208243'}\n",
      "[{'code': '0150001V', 'nom': 'Collège Maurice Peschaud', 'statut': 'Public', 'codepostal': '15160', 'id_commune': '1', 'latitude': '45.230605740493495', 'longitude': '2.9353501250960568'}, {'code': '0150005Z', 'nom': 'Collège La Jordanne', 'statut': 'Public', 'codepostal': '15005', 'id_commune': '14', 'latitude': '44.92112535663867', 'longitude': '2.4404905355487023'}]\n",
      "203\n",
      "Lycée polyvalent de Haute Auvergne\n"
     ]
    }
   ],
   "source": [
    "# premier enregistrement de type dictionnaire\n",
    "print(table[18])\n",
    "# tableu de dictionnaires : extrait\n",
    "print(table[:2])\n",
    "# nombre d'enregistrements\n",
    "print(len(table))\n",
    "# accès facile aux valeurs des attributs par clefs\n",
    "print(table[18][\"nom\"])"
   ]
  },
  {
   "cell_type": "code",
   "execution_count": 7,
   "id": "36bcfca0",
   "metadata": {},
   "outputs": [],
   "source": [
    "g = open('educ_cantal_copie2.csv', mode='w', encoding='utf8', newline='')\n",
    "attributs = list(table[0].keys())\n",
    "writer = csv.DictWriter(g, delimiter=',', fieldnames=attributs)  # création de l'objet writer\n",
    "writer.writeheader()  # écriture des attributs\n",
    "for enregistrement in table:\n",
    "    writer.writerow(enregistrement)  # écriture des enregistrements\n",
    "g.close()"
   ]
  },
  {
   "cell_type": "code",
   "execution_count": 8,
   "id": "bae9edcc",
   "metadata": {},
   "outputs": [],
   "source": [
    "f = open('educ_cantal.csv', mode='r', encoding='utf8', newline='')\n",
    "reader = csv.reader(f, delimiter=',')\n",
    "table = [ligne for ligne in reader]\n",
    "f.close()"
   ]
  },
  {
   "cell_type": "code",
   "execution_count": 9,
   "id": "c4ae93f7",
   "metadata": {},
   "outputs": [],
   "source": [
    "Table1 = [\n",
    "    {'Nom': 'Joe', 'Anglais': '17', 'Info': '18', 'Maths': '16'},\n",
    "    {'Nom': 'Zoé', 'Anglais': '15', 'Info': '17', 'Maths': '19'},\n",
    "    {'Nom': 'Max', 'Anglais': '19', 'Info': '13', 'Maths': '14'},\n",
    "    {'Nom': 'Bob', 'Anglais': '12', 'Info': '16', 'Maths': '10'}\n",
    "]"
   ]
  },
  {
   "cell_type": "code",
   "execution_count": 10,
   "id": "9ab63251",
   "metadata": {},
   "outputs": [],
   "source": [
    "au_moins_16_en_maths = []\n",
    "for enregistrement in Table1:\n",
    "    if int(enregistrement['Maths']) >= 16:\n",
    "        au_moins_16_en_maths.append(enregistrement)"
   ]
  },
  {
   "cell_type": "code",
   "execution_count": 11,
   "id": "eac00135",
   "metadata": {},
   "outputs": [
    {
     "data": {
      "text/plain": [
       "[{'Nom': 'Joe', 'Anglais': '17', 'Info': '18', 'Maths': '16'},\n",
       " {'Nom': 'Zoé', 'Anglais': '15', 'Info': '17', 'Maths': '19'}]"
      ]
     },
     "execution_count": 10,
     "metadata": {},
     "output_type": "execute_result"
    }
   ],
   "source": [
    "au_moins_16_en_maths"
   ]
  },
  {
   "cell_type": "code",
   "execution_count": 12,
   "id": "ed474703",
   "metadata": {},
   "outputs": [],
   "source": [
    "au_moins_16_en_maths = [enre for enre in Table1 if int(enre['Maths']) >= 16]"
   ]
  },
  {
   "cell_type": "code",
   "execution_count": 13,
   "id": "0a109051",
   "metadata": {},
   "outputs": [],
   "source": [
    "notes_maths = []\n",
    "for enregistrement in Table1:\n",
    "    notes_maths.append(enregistrement['Maths'])"
   ]
  },
  {
   "cell_type": "code",
   "execution_count": 14,
   "id": "3d57559c",
   "metadata": {},
   "outputs": [],
   "source": [
    "notes_maths = [enre['Maths'] for enre in Table1]"
   ]
  },
  {
   "cell_type": "code",
   "execution_count": 15,
   "id": "97b149da",
   "metadata": {},
   "outputs": [],
   "source": [
    "nom_avec_o = []\n",
    "for enregistrement in Table1:\n",
    "    if 'o' in enregistrement['Nom']:\n",
    "        nom_avec_o.append(enregistrement)"
   ]
  },
  {
   "cell_type": "code",
   "execution_count": 16,
   "id": "6d1b6e4e",
   "metadata": {},
   "outputs": [],
   "source": [
    "nom_avec_o = [enre for enre in Table1 if 'o' in enre['Nom']]"
   ]
  },
  {
   "cell_type": "code",
   "execution_count": 17,
   "id": "a91fec38",
   "metadata": {},
   "outputs": [],
   "source": [
    "# avec une boucle\n",
    "liste_noms = []\n",
    "for enregistrement in Table1:\n",
    "    liste_noms.append(enregistrement['Nom'])\n",
    "\n",
    "# avec une liste en compréhension\n",
    "liste_noms = [enre['Nom'] for enre in Table1]"
   ]
  },
  {
   "cell_type": "code",
   "execution_count": 18,
   "id": "37089319",
   "metadata": {},
   "outputs": [],
   "source": [
    "# avec une boucle\n",
    "liste_paires = []\n",
    "for enregistrement in Table1:\n",
    "    liste_paires.append((enregistrement['Info'], enregistrement['Maths']))\n",
    "\n",
    "# avec une liste en compréhension\n",
    "liste_paires = [(enre['Info'], enre['Maths']) for enre in Table1]"
   ]
  },
  {
   "cell_type": "code",
   "execution_count": 19,
   "id": "f60dc8c2",
   "metadata": {},
   "outputs": [
    {
     "name": "stdout",
     "output_type": "stream",
     "text": [
      "[3, 10, 71, 96]\n",
      "[96, 71, 10, 3]\n",
      "[('a', 3), ('b', 1), ('c', 5), ('d', 2)]\n",
      "[('b', 1), ('d', 2), ('a', 3), ('c', 5)]\n"
     ]
    }
   ],
   "source": [
    "ma_liste = [10, 3, 71, 96]\n",
    "print(sorted(ma_liste))\n",
    "print(sorted(ma_liste, reverse=True))\n",
    "\n",
    "mes_couples = [('a', 3), ('d', 2), ('c', 5), ('b', 1)]\n",
    "print(sorted(mes_couples))     # tuples triés selon leur premier élément (par défaut)\n",
    "\n",
    "def y(couple):    # on définit une fonction qui retourne le second élément d'un tuple\n",
    "    return couple[1]\n",
    "\n",
    "print(sorted(mes_couples, key=y)) # tuples triés selon leur second élément"
   ]
  },
  {
   "cell_type": "code",
   "execution_count": 20,
   "id": "c0b6bee7",
   "metadata": {},
   "outputs": [],
   "source": [
    "table = [{'élève' : 'guido', 'langage' : 'python', 'note' : 19},\n",
    "         {'élève' : 'monty', 'langage' : 'python', 'note' : 20},\n",
    "         {'élève' : 'brian', 'langage' : 'c', 'note' : 20}]"
   ]
  },
  {
   "cell_type": "code",
   "execution_count": 21,
   "id": "9e7bbb6a",
   "metadata": {},
   "outputs": [
    {
     "data": {
      "text/plain": [
       "[{'élève': 'brian', 'langage': 'c', 'note': 20},\n",
       " {'élève': 'guido', 'langage': 'python', 'note': 19},\n",
       " {'élève': 'monty', 'langage': 'python', 'note': 20}]"
      ]
     },
     "execution_count": 20,
     "metadata": {},
     "output_type": "execute_result"
    }
   ],
   "source": [
    "def cle_langage_note(enre):\n",
    "    return (enre['langage'], enre['note'])\n",
    "\n",
    "sorted(table, key = cle_langage_note)"
   ]
  },
  {
   "cell_type": "code",
   "execution_count": 22,
   "id": "12828b27",
   "metadata": {},
   "outputs": [
    {
     "data": {
      "text/plain": [
       "[{'élève': 'brian', 'langage': 'c', 'note': 20},\n",
       " {'élève': 'monty', 'langage': 'python', 'note': 20},\n",
       " {'élève': 'guido', 'langage': 'python', 'note': 19}]"
      ]
     },
     "execution_count": 21,
     "metadata": {},
     "output_type": "execute_result"
    }
   ],
   "source": [
    "def cle_langage(enre):\n",
    "    return enre['langage']\n",
    "\n",
    "def cle_note(enre):\n",
    "    return enre['note']\n",
    "\n",
    "table_temp = sorted(table, key = cle_langage)\n",
    "sorted(table_temp, key = cle_note, reverse = True)"
   ]
  },
  {
   "cell_type": "code",
   "execution_count": 23,
   "id": "20591036",
   "metadata": {},
   "outputs": [],
   "source": [
    "def fusion_tables(table1: list, table2: list) -> list:\n",
    "    \"\"\"table 1 et table 2 ont les mêmes descripteurs\n",
    "    il n'y a pas de doublons\"\"\"\n",
    "    fusion = deepcopy(table1)\n",
    "    for enreg in table2[1:]:    # on élimine la première ligne (descripteurs)\n",
    "        fusion.append(deepcopy(enreg))\n",
    "    return fusion"
   ]
  },
  {
   "cell_type": "code",
   "execution_count": 24,
   "id": "221f9797",
   "metadata": {},
   "outputs": [
    {
     "name": "stdout",
     "output_type": "stream",
     "text": [
      "[{'Nom': 'Joe', 'Age': 16, 'Couriel': 'joe@info.fr', 'Anglais': '17', 'Info': '18', 'Maths': '16'}, {'Nom': 'Zoé', 'Age': 15, 'Couriel': 'zoe@info.fr', 'Anglais': '15', 'Info': '17', 'Maths': '19'}]\n"
     ]
    }
   ],
   "source": [
    "from copy import deepcopy\n",
    "\n",
    "Table1 = [{'Nom': 'Joe', 'Anglais': '17', 'Info': '18', 'Maths': '16'},\n",
    "          {'Nom': 'Zoé', 'Anglais': '15', 'Info': '17', 'Maths': '19'},\n",
    "          {'Nom': 'Max', 'Anglais': '19', 'Info': '13', 'Maths': '14'},\n",
    "          {'Nom': 'Bob', 'Anglais': '12', 'Info': '16', 'Maths': '10'}]\n",
    "\n",
    "Table2 = [{'Nom': 'Joe', 'Age': 16, 'Couriel': 'joe@info.fr'},\n",
    "          {'Nom': 'Zoé', 'Age': 15, 'Couriel': 'zoe@info.fr'}]\n",
    "\n",
    "\n",
    "def jointure_selon_attribut_commun(t1: list, t2: list, attr: str) -> list:\n",
    "    \"\"\"Effectue la jointure entre les tables t1 et t2 selon l'attribut commun attr\"\"\"\n",
    "    jointure = []\n",
    "    for item1 in t1:\n",
    "        for item2 in t2:\n",
    "            if item1[attr] == item2[attr]:\n",
    "                # définition d'une ligne de la nouvelle table reprenant le contenu de la ligne en cours de t1\n",
    "                new_line = deepcopy(item1)\n",
    "                # boucle pour ajouter les champs de la ligne de t2 autres que attr\n",
    "                for cle in item2:\n",
    "                    if cle != attr:\n",
    "                        new_line[cle] = item2[cle]\n",
    "                # ajout de la nouvelle ligne à la nouvelle table\n",
    "                jointure.append(new_line)\n",
    "    return jointure\n",
    "\n",
    "\n",
    "print(jointure_selon_attribut_commun(Table2, Table1, 'Nom'))"
   ]
  }
 ],
 "metadata": {
  "kernelspec": {
   "display_name": "Python 3 (ipykernel)",
   "language": "python",
   "name": "python3",
   "path": "/usr/share/jupyter/kernels/python3"
  },
  "language_info": {
   "codemirror_mode": {
    "name": "ipython",
    "version": 3
   },
   "file_extension": ".py",
   "mimetype": "text/x-python",
   "name": "python",
   "nbconvert_exporter": "python",
   "pygments_lexer": "ipython3",
   "version": "3.12.3"
  }
 },
 "nbformat": 4,
 "nbformat_minor": 5
}